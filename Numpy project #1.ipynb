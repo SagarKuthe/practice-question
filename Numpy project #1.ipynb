{
 "cells": [
  {
   "cell_type": "code",
   "execution_count": 1,
   "id": "0a4b36a3",
   "metadata": {},
   "outputs": [],
   "source": [
    "import csv"
   ]
  },
  {
   "cell_type": "code",
   "execution_count": 2,
   "id": "8bc06b22",
   "metadata": {},
   "outputs": [],
   "source": [
    "import numpy as np"
   ]
  },
  {
   "cell_type": "code",
   "execution_count": 3,
   "id": "63f32bbc",
   "metadata": {},
   "outputs": [],
   "source": [
    "data=[]\n",
    "with open (r\"C:\\Users\\admin\\Downloads\\SampleTemperature Sheet - mysheet.csv\",'r') as csvfile:\n",
    "    reader=csv.reader(csvfile,delimiter=',')\n",
    "    for row in reader:\n",
    "        data.append(row)\n",
    "data=np.array(data)"
   ]
  },
  {
   "cell_type": "markdown",
   "id": "fdc9ae9f",
   "metadata": {},
   "source": [
    "1.Represent the data in the given sheet into an appropriate NumPy array so\n",
    "that you can perform the following actions on it.\n"
   ]
  },
  {
   "cell_type": "code",
   "execution_count": 4,
   "id": "e00b58a2",
   "metadata": {},
   "outputs": [
    {
     "data": {
      "text/plain": [
       "array([['Temprature Sheet', '', '', '', '', '', '', '', '', '', '', '',\n",
       "        '', '', '', ''],\n",
       "       ['', '', '', '', '', '', '', '', '', '', '', '', '', '', '', ''],\n",
       "       ['Month', 'Week', 'Monday', '', 'Tuesday', '', 'Wednesday', '',\n",
       "        'Thursday', '', 'Friday', '', 'Saturday', '', 'Sunday', ''],\n",
       "       ['November', '', 'Min Temp', 'Max Temp', 'Min Temp', 'Max Temp',\n",
       "        'Min Temp', 'Max Temp', 'Min Temp', 'Max Temp', 'Min Temp',\n",
       "        'Max Temp', 'Min Temp', 'Max Temp', 'Min Temp', 'Max Temp'],\n",
       "       ['', 'Week 1', '10', '27', '12', '22', '15', '21', '15', '26',\n",
       "        '8', '32', '11', '28', '8', '32'],\n",
       "       ['', 'Week 2', '11', '27', '14', '21', '12', '32', '-13', '29',\n",
       "        '14', '21', '7', '24', '7', '21'],\n",
       "       ['', 'Week 3', '7', '31', '11', '20', '6', '26', '6', '20', '14',\n",
       "        '25', '6', '22', '9', '21'],\n",
       "       ['', 'Week 4', '6', '26', '15', '26', '7', '23', '9', '31', '11',\n",
       "        '24', '10', '23', '14', '22'],\n",
       "       ['December', 'Week 1', '10', '25', '6', '27', '11', '29', '13',\n",
       "        '21', '12', '24', '7', '25', '12', '22'],\n",
       "       ['', 'Week 2', '7', '31', '7', '26', '10', '23', '11', '20', '10',\n",
       "        '23', '9', '21', '13', '31'],\n",
       "       ['', 'Week 3', '8', '32', '6', '32', '11', '20', '13', '20', '11',\n",
       "        '29', '12', '32', '11', '32'],\n",
       "       ['', 'Week 4', '6', '20', '12', '23', '12', '28', '13', '31', '7',\n",
       "        '32', '15', '22', '7', '26'],\n",
       "       ['January', 'Week 1', '5', '19', '7', '19', '4', '21', '7', '21',\n",
       "        '5', '22', '2', '7', '18', '4'],\n",
       "       ['', 'Week 2', '5', '22', '4', '20', '6', '21', '3', '21', '7',\n",
       "        '19', '6', '6', '18', '8'],\n",
       "       ['', 'Week 3', '2', '22', '6', '19', '2', '20', '4', '18', '2',\n",
       "        '22', '6', '6', '21', '4'],\n",
       "       ['', 'Week 4', '7', '19', '8', '21', '4', '19', '8', '21', '7',\n",
       "        '18', '2', '8', '18', '5'],\n",
       "       ['February', 'Week 1', '9', '22', '9', '22', '-10', '19', '9',\n",
       "        '21', '8', '22', '12', '71', '18', '10'],\n",
       "       ['', 'Week 2', '11', '18', '7', '22', '10', '18', '12', '18', '7',\n",
       "        '20', '11', '12', '21', '9'],\n",
       "       ['', 'Week 3', '12', '19', '9', '19', '8', '21', '12', '19', '10',\n",
       "        '22', '12', '9', '20', '9'],\n",
       "       ['', 'Week 4', '7', '21', '10', '22', '8', '21', '7', '19', '11',\n",
       "        '22', '9', '8', '20', '11']], dtype='<U16')"
      ]
     },
     "execution_count": 4,
     "metadata": {},
     "output_type": "execute_result"
    }
   ],
   "source": [
    "data"
   ]
  },
  {
   "cell_type": "code",
   "execution_count": 5,
   "id": "096e855f",
   "metadata": {},
   "outputs": [],
   "source": [
    "data[4:8,0]='November'"
   ]
  },
  {
   "cell_type": "code",
   "execution_count": 6,
   "id": "cd73c663",
   "metadata": {},
   "outputs": [],
   "source": [
    "data[9:12,0]='December'"
   ]
  },
  {
   "cell_type": "code",
   "execution_count": 7,
   "id": "7f0a87f1",
   "metadata": {},
   "outputs": [],
   "source": [
    "data[13:16,0]='January'"
   ]
  },
  {
   "cell_type": "code",
   "execution_count": 8,
   "id": "ba2fd49d",
   "metadata": {},
   "outputs": [],
   "source": [
    "data[17:20,0]='February'"
   ]
  },
  {
   "cell_type": "code",
   "execution_count": 9,
   "id": "befd0e5d",
   "metadata": {},
   "outputs": [],
   "source": [
    "data[2,3]='Monday'"
   ]
  },
  {
   "cell_type": "code",
   "execution_count": 10,
   "id": "d6884fd6",
   "metadata": {},
   "outputs": [],
   "source": [
    "data[2,5]='Tuesday'"
   ]
  },
  {
   "cell_type": "code",
   "execution_count": 11,
   "id": "dab1fb90",
   "metadata": {},
   "outputs": [],
   "source": [
    "data[2,7]='Wednesday'"
   ]
  },
  {
   "cell_type": "code",
   "execution_count": 12,
   "id": "5e421aeb",
   "metadata": {},
   "outputs": [],
   "source": [
    "data[2,9]='Thursday'"
   ]
  },
  {
   "cell_type": "code",
   "execution_count": 13,
   "id": "d5a64ea1",
   "metadata": {},
   "outputs": [],
   "source": [
    "data[2,11]='Friday'"
   ]
  },
  {
   "cell_type": "code",
   "execution_count": 14,
   "id": "2d973ea8",
   "metadata": {},
   "outputs": [],
   "source": [
    "data[2,13]='Saturday'"
   ]
  },
  {
   "cell_type": "code",
   "execution_count": 15,
   "id": "7a7d37e5",
   "metadata": {},
   "outputs": [],
   "source": [
    "data[2,15]='Sunday'"
   ]
  },
  {
   "cell_type": "code",
   "execution_count": 63,
   "id": "0c531e95",
   "metadata": {},
   "outputs": [],
   "source": [
    "data=np.delete(data,0,axis=0)"
   ]
  },
  {
   "cell_type": "code",
   "execution_count": 65,
   "id": "f30b3156",
   "metadata": {},
   "outputs": [],
   "source": [
    "data=np.delete(data,0,axis=0)"
   ]
  },
  {
   "cell_type": "code",
   "execution_count": 66,
   "id": "658eff70",
   "metadata": {},
   "outputs": [
    {
     "data": {
      "text/plain": [
       "array([['Month', 'Week', 'Monday', 'Monday', 'Tuesday', 'Tuesday',\n",
       "        'Wednesday', 'Wednesday', 'Thursday', 'Thursday', 'Friday',\n",
       "        'Friday', 'Saturday', 'Saturday', 'Sunday', 'Sunday'],\n",
       "       ['November', '', 'Min Temp', 'Max Temp', 'Min Temp', 'Max Temp',\n",
       "        'Min Temp', 'Max Temp', 'Min Temp', 'Max Temp', 'Min Temp',\n",
       "        'Max Temp', 'Min Temp', 'Max Temp', 'Min Temp', 'Max Temp'],\n",
       "       ['November', 'Week 1', '10', '27', '12', '22', '15', '21', '15',\n",
       "        '26', '8', '32', '11', '28', '8', '32'],\n",
       "       ['November', 'Week 2', '11', '27', '14', '21', '12', '32', '-13',\n",
       "        '29', '14', '21', '7', '24', '7', '21'],\n",
       "       ['November', 'Week 3', '7', '31', '11', '20', '6', '26', '6',\n",
       "        '20', '14', '25', '6', '22', '9', '21'],\n",
       "       ['November', 'Week 4', '6', '26', '15', '26', '7', '23', '9',\n",
       "        '31', '11', '24', '10', '23', '14', '22'],\n",
       "       ['December', 'Week 1', '10', '25', '6', '27', '11', '29', '13',\n",
       "        '21', '12', '24', '7', '25', '12', '22'],\n",
       "       ['December', 'Week 2', '7', '31', '7', '26', '10', '23', '11',\n",
       "        '20', '10', '23', '9', '21', '13', '31'],\n",
       "       ['December', 'Week 3', '8', '32', '6', '32', '11', '20', '13',\n",
       "        '20', '11', '29', '12', '32', '11', '32'],\n",
       "       ['December', 'Week 4', '6', '20', '12', '23', '12', '28', '13',\n",
       "        '31', '7', '32', '15', '22', '7', '26'],\n",
       "       ['January', 'Week 1', '5', '19', '7', '19', '4', '21', '7', '21',\n",
       "        '5', '22', '2', '7', '18', '4'],\n",
       "       ['January', 'Week 2', '5', '22', '4', '20', '6', '21', '3', '21',\n",
       "        '7', '19', '6', '6', '18', '8'],\n",
       "       ['January', 'Week 3', '2', '22', '6', '19', '2', '20', '4', '18',\n",
       "        '2', '22', '6', '6', '21', '4'],\n",
       "       ['January', 'Week 4', '7', '19', '8', '21', '4', '19', '8', '21',\n",
       "        '7', '18', '2', '8', '18', '5'],\n",
       "       ['February', 'Week 1', '9', '22', '9', '22', '-10', '19', '9',\n",
       "        '21', '8', '22', '12', '71', '18', '10'],\n",
       "       ['February', 'Week 2', '11', '18', '7', '22', '10', '18', '12',\n",
       "        '18', '7', '20', '11', '12', '21', '9'],\n",
       "       ['February', 'Week 3', '12', '19', '9', '19', '8', '21', '12',\n",
       "        '19', '10', '22', '12', '9', '20', '9'],\n",
       "       ['February', 'Week 4', '7', '21', '10', '22', '8', '21', '7',\n",
       "        '19', '11', '22', '9', '8', '20', '11']], dtype='<U16')"
      ]
     },
     "execution_count": 66,
     "metadata": {},
     "output_type": "execute_result"
    }
   ],
   "source": [
    "data"
   ]
  },
  {
   "cell_type": "markdown",
   "id": "229ed6c0",
   "metadata": {},
   "source": [
    "2.Write the dimensions and shape of the NumPy array that you have\n",
    "created."
   ]
  },
  {
   "cell_type": "code",
   "execution_count": 67,
   "id": "768f28ee",
   "metadata": {},
   "outputs": [
    {
     "data": {
      "text/plain": [
       "2"
      ]
     },
     "execution_count": 67,
     "metadata": {},
     "output_type": "execute_result"
    }
   ],
   "source": [
    "data.ndim"
   ]
  },
  {
   "cell_type": "code",
   "execution_count": 68,
   "id": "532d0494",
   "metadata": {},
   "outputs": [
    {
     "data": {
      "text/plain": [
       "(18, 16)"
      ]
     },
     "execution_count": 68,
     "metadata": {},
     "output_type": "execute_result"
    }
   ],
   "source": [
    "data.shape"
   ]
  },
  {
   "cell_type": "markdown",
   "id": "73fa6b77",
   "metadata": {},
   "source": [
    "3.Print the daily temperatures for the first week of each month."
   ]
  },
  {
   "cell_type": "code",
   "execution_count": 72,
   "id": "675ea901",
   "metadata": {},
   "outputs": [],
   "source": [
    "a=np.array(data[::4,0:])"
   ]
  },
  {
   "cell_type": "code",
   "execution_count": 73,
   "id": "0f55046c",
   "metadata": {},
   "outputs": [
    {
     "data": {
      "text/plain": [
       "array([['Month', 'Week', 'Monday', 'Monday', 'Tuesday', 'Tuesday',\n",
       "        'Wednesday', 'Wednesday', 'Thursday', 'Thursday', 'Friday',\n",
       "        'Friday', 'Saturday', 'Saturday', 'Sunday', 'Sunday'],\n",
       "       ['November', 'Week 3', '7', '31', '11', '20', '6', '26', '6',\n",
       "        '20', '14', '25', '6', '22', '9', '21'],\n",
       "       ['December', 'Week 3', '8', '32', '6', '32', '11', '20', '13',\n",
       "        '20', '11', '29', '12', '32', '11', '32'],\n",
       "       ['January', 'Week 3', '2', '22', '6', '19', '2', '20', '4', '18',\n",
       "        '2', '22', '6', '6', '21', '4'],\n",
       "       ['February', 'Week 3', '12', '19', '9', '19', '8', '21', '12',\n",
       "        '19', '10', '22', '12', '9', '20', '9']], dtype='<U16')"
      ]
     },
     "execution_count": 73,
     "metadata": {},
     "output_type": "execute_result"
    }
   ],
   "source": [
    "a"
   ]
  },
  {
   "cell_type": "markdown",
   "id": "59c4b7d1",
   "metadata": {},
   "source": [
    "4.Print the temperatures for Tuesday of each month.\n"
   ]
  },
  {
   "cell_type": "code",
   "execution_count": 74,
   "id": "b1a6d288",
   "metadata": {},
   "outputs": [],
   "source": [
    "tuesday=data[0:,4:6]"
   ]
  },
  {
   "cell_type": "code",
   "execution_count": 76,
   "id": "4262d494",
   "metadata": {},
   "outputs": [],
   "source": [
    "month=data[0:,0:2]"
   ]
  },
  {
   "cell_type": "code",
   "execution_count": 77,
   "id": "8feb4564",
   "metadata": {},
   "outputs": [
    {
     "data": {
      "text/plain": [
       "array([['Month', 'Week', 'Tuesday', 'Tuesday'],\n",
       "       ['November', '', 'Min Temp', 'Max Temp'],\n",
       "       ['November', 'Week 1', '12', '22'],\n",
       "       ['November', 'Week 2', '14', '21'],\n",
       "       ['November', 'Week 3', '11', '20'],\n",
       "       ['November', 'Week 4', '15', '26'],\n",
       "       ['December', 'Week 1', '6', '27'],\n",
       "       ['December', 'Week 2', '7', '26'],\n",
       "       ['December', 'Week 3', '6', '32'],\n",
       "       ['December', 'Week 4', '12', '23'],\n",
       "       ['January', 'Week 1', '7', '19'],\n",
       "       ['January', 'Week 2', '4', '20'],\n",
       "       ['January', 'Week 3', '6', '19'],\n",
       "       ['January', 'Week 4', '8', '21'],\n",
       "       ['February', 'Week 1', '9', '22'],\n",
       "       ['February', 'Week 2', '7', '22'],\n",
       "       ['February', 'Week 3', '9', '19'],\n",
       "       ['February', 'Week 4', '10', '22']], dtype='<U16')"
      ]
     },
     "execution_count": 77,
     "metadata": {},
     "output_type": "execute_result"
    }
   ],
   "source": [
    "np.hstack((month,tuesday))"
   ]
  },
  {
   "cell_type": "markdown",
   "id": "4b485985",
   "metadata": {},
   "source": [
    "5.Print only the maximum temperature for all the weekdays of Dec and Feb."
   ]
  },
  {
   "cell_type": "code",
   "execution_count": 79,
   "id": "8a9b9d8d",
   "metadata": {},
   "outputs": [],
   "source": [
    "Dec_temp=data[6:10,3::2]"
   ]
  },
  {
   "cell_type": "code",
   "execution_count": 80,
   "id": "31ad67e9",
   "metadata": {},
   "outputs": [
    {
     "data": {
      "text/plain": [
       "array([['25', '27', '29', '21', '24', '25', '22'],\n",
       "       ['31', '26', '23', '20', '23', '21', '31'],\n",
       "       ['32', '32', '20', '20', '29', '32', '32'],\n",
       "       ['20', '23', '28', '31', '32', '22', '26']], dtype='<U16')"
      ]
     },
     "execution_count": 80,
     "metadata": {},
     "output_type": "execute_result"
    }
   ],
   "source": [
    "Dec_temp"
   ]
  },
  {
   "cell_type": "code",
   "execution_count": 81,
   "id": "65f4209a",
   "metadata": {},
   "outputs": [],
   "source": [
    "Feb_temp=data[14:,3::2]"
   ]
  },
  {
   "cell_type": "code",
   "execution_count": 82,
   "id": "bfb9a095",
   "metadata": {},
   "outputs": [
    {
     "data": {
      "text/plain": [
       "array([['22', '22', '19', '21', '22', '71', '10'],\n",
       "       ['18', '22', '18', '18', '20', '12', '9'],\n",
       "       ['19', '19', '21', '19', '22', '9', '9'],\n",
       "       ['21', '22', '21', '19', '22', '8', '11']], dtype='<U16')"
      ]
     },
     "execution_count": 82,
     "metadata": {},
     "output_type": "execute_result"
    }
   ],
   "source": [
    "Feb_temp"
   ]
  },
  {
   "cell_type": "code",
   "execution_count": 103,
   "id": "a2ee3a62",
   "metadata": {},
   "outputs": [],
   "source": [
    "dec_and_feb_temp=np.vstack(((data[0,3::2],Dec_temp,Feb_temp)))"
   ]
  },
  {
   "cell_type": "code",
   "execution_count": 104,
   "id": "5f61058e",
   "metadata": {},
   "outputs": [],
   "source": [
    "dec=data[6:10,0:2]"
   ]
  },
  {
   "cell_type": "code",
   "execution_count": 95,
   "id": "436b05a6",
   "metadata": {},
   "outputs": [
    {
     "data": {
      "text/plain": [
       "array([['December', 'Week 1'],\n",
       "       ['December', 'Week 2'],\n",
       "       ['December', 'Week 3'],\n",
       "       ['December', 'Week 4']], dtype='<U16')"
      ]
     },
     "execution_count": 95,
     "metadata": {},
     "output_type": "execute_result"
    }
   ],
   "source": [
    "dec"
   ]
  },
  {
   "cell_type": "code",
   "execution_count": 96,
   "id": "d2540de0",
   "metadata": {},
   "outputs": [],
   "source": [
    "feb=data[14:,0:2]"
   ]
  },
  {
   "cell_type": "code",
   "execution_count": 97,
   "id": "50b465eb",
   "metadata": {},
   "outputs": [
    {
     "data": {
      "text/plain": [
       "array([['February', 'Week 1'],\n",
       "       ['February', 'Week 2'],\n",
       "       ['February', 'Week 3'],\n",
       "       ['February', 'Week 4']], dtype='<U16')"
      ]
     },
     "execution_count": 97,
     "metadata": {},
     "output_type": "execute_result"
    }
   ],
   "source": [
    "feb"
   ]
  },
  {
   "cell_type": "code",
   "execution_count": 105,
   "id": "dd418951",
   "metadata": {},
   "outputs": [],
   "source": [
    "dec_feb=np.vstack(((data[0,0:2],dec,feb)))"
   ]
  },
  {
   "cell_type": "code",
   "execution_count": 106,
   "id": "defdef64",
   "metadata": {},
   "outputs": [
    {
     "data": {
      "text/plain": [
       "array([['Month', 'Week'],\n",
       "       ['December', 'Week 1'],\n",
       "       ['December', 'Week 2'],\n",
       "       ['December', 'Week 3'],\n",
       "       ['December', 'Week 4'],\n",
       "       ['February', 'Week 1'],\n",
       "       ['February', 'Week 2'],\n",
       "       ['February', 'Week 3'],\n",
       "       ['February', 'Week 4']], dtype='<U16')"
      ]
     },
     "execution_count": 106,
     "metadata": {},
     "output_type": "execute_result"
    }
   ],
   "source": [
    "dec_feb"
   ]
  },
  {
   "cell_type": "code",
   "execution_count": 107,
   "id": "4e39f676",
   "metadata": {},
   "outputs": [],
   "source": [
    "dec_and_feb_max_temp=np.hstack((dec_feb,dec_and_feb_temp))"
   ]
  },
  {
   "cell_type": "code",
   "execution_count": 108,
   "id": "e8edbe57",
   "metadata": {},
   "outputs": [
    {
     "data": {
      "text/plain": [
       "array([['Month', 'Week', 'Monday', 'Tuesday', 'Wednesday', 'Thursday',\n",
       "        'Friday', 'Saturday', 'Sunday'],\n",
       "       ['December', 'Week 1', '25', '27', '29', '21', '24', '25', '22'],\n",
       "       ['December', 'Week 2', '31', '26', '23', '20', '23', '21', '31'],\n",
       "       ['December', 'Week 3', '32', '32', '20', '20', '29', '32', '32'],\n",
       "       ['December', 'Week 4', '20', '23', '28', '31', '32', '22', '26'],\n",
       "       ['February', 'Week 1', '22', '22', '19', '21', '22', '71', '10'],\n",
       "       ['February', 'Week 2', '18', '22', '18', '18', '20', '12', '9'],\n",
       "       ['February', 'Week 3', '19', '19', '21', '19', '22', '9', '9'],\n",
       "       ['February', 'Week 4', '21', '22', '21', '19', '22', '8', '11']],\n",
       "      dtype='<U16')"
      ]
     },
     "execution_count": 108,
     "metadata": {},
     "output_type": "execute_result"
    }
   ],
   "source": [
    "dec_and_feb_max_temp"
   ]
  },
  {
   "cell_type": "markdown",
   "id": "79239c9f",
   "metadata": {},
   "source": [
    "6.Print all the days along with the week number in November when the\n",
    "minimum temperature was less than 8 degrees. "
   ]
  },
  {
   "cell_type": "code",
   "execution_count": 112,
   "id": "8ee46752",
   "metadata": {},
   "outputs": [],
   "source": [
    "min_temp_1=data[2:,0:]"
   ]
  },
  {
   "cell_type": "code",
   "execution_count": 117,
   "id": "df5ce4dc",
   "metadata": {},
   "outputs": [],
   "source": [
    "nov_temp=min_temp_1[0:4,2::2]"
   ]
  },
  {
   "cell_type": "code",
   "execution_count": 118,
   "id": "3ef24ce2",
   "metadata": {},
   "outputs": [
    {
     "data": {
      "text/plain": [
       "array([['10', '12', '15', '15', '8', '11', '8'],\n",
       "       ['11', '14', '12', '-13', '14', '7', '7'],\n",
       "       ['7', '11', '6', '6', '14', '6', '9'],\n",
       "       ['6', '15', '7', '9', '11', '10', '14']], dtype='<U16')"
      ]
     },
     "execution_count": 118,
     "metadata": {},
     "output_type": "execute_result"
    }
   ],
   "source": [
    "nov_temp"
   ]
  },
  {
   "cell_type": "code",
   "execution_count": 119,
   "id": "93c3e7a9",
   "metadata": {},
   "outputs": [
    {
     "data": {
      "text/plain": [
       "(4, 7)"
      ]
     },
     "execution_count": 119,
     "metadata": {},
     "output_type": "execute_result"
    }
   ],
   "source": [
    "nov_temp.shape"
   ]
  },
  {
   "cell_type": "code",
   "execution_count": 123,
   "id": "b3def9a2",
   "metadata": {},
   "outputs": [],
   "source": [
    "nov=nov_temp.reshape(4*7,)"
   ]
  },
  {
   "cell_type": "code",
   "execution_count": 124,
   "id": "ba7175d3",
   "metadata": {},
   "outputs": [],
   "source": [
    "nov1=nov.astype(int)"
   ]
  },
  {
   "cell_type": "code",
   "execution_count": 125,
   "id": "a8d24826",
   "metadata": {},
   "outputs": [
    {
     "data": {
      "text/plain": [
       "array([ 10,  12,  15,  15,   8,  11,   8,  11,  14,  12, -13,  14,   7,\n",
       "         7,   7,  11,   6,   6,  14,   6,   9,   6,  15,   7,   9,  11,\n",
       "        10,  14])"
      ]
     },
     "execution_count": 125,
     "metadata": {},
     "output_type": "execute_result"
    }
   ],
   "source": [
    "nov1"
   ]
  },
  {
   "cell_type": "code",
   "execution_count": 126,
   "id": "09982fa8",
   "metadata": {},
   "outputs": [
    {
     "name": "stdout",
     "output_type": "stream",
     "text": [
      "['', '', '', '', '', '', '', '', '', '', -13, '', 7, 7, 7, '', 6, 6, '', 6, '', 6, '', 7, '', '', '', '']\n"
     ]
    }
   ],
   "source": [
    "h1=[]\n",
    "for i in nov1:\n",
    "    if i<8:\n",
    "        h1.append(i)\n",
    "    else:\n",
    "        h1.append('')\n",
    "print(h1)"
   ]
  },
  {
   "cell_type": "code",
   "execution_count": 128,
   "id": "e1e809cb",
   "metadata": {},
   "outputs": [],
   "source": [
    "h1=np.array(h1)"
   ]
  },
  {
   "cell_type": "code",
   "execution_count": 129,
   "id": "abbd5387",
   "metadata": {},
   "outputs": [],
   "source": [
    "min_temp_2=h1.reshape(4,7)"
   ]
  },
  {
   "cell_type": "code",
   "execution_count": 130,
   "id": "d97d99dd",
   "metadata": {},
   "outputs": [
    {
     "data": {
      "text/plain": [
       "array([['', '', '', '', '', '', ''],\n",
       "       ['', '', '', '-13', '', '7', '7'],\n",
       "       ['7', '', '6', '6', '', '6', ''],\n",
       "       ['6', '', '7', '', '', '', '']], dtype='<U11')"
      ]
     },
     "execution_count": 130,
     "metadata": {},
     "output_type": "execute_result"
    }
   ],
   "source": [
    "min_temp_2"
   ]
  },
  {
   "cell_type": "code",
   "execution_count": 142,
   "id": "04364d11",
   "metadata": {},
   "outputs": [],
   "source": [
    "days_for_nov=data[0,2::2]"
   ]
  },
  {
   "cell_type": "code",
   "execution_count": 143,
   "id": "d2f11283",
   "metadata": {},
   "outputs": [],
   "source": [
    "min_of_nov=np.vstack((days_for_nov,min_temp_2))"
   ]
  },
  {
   "cell_type": "code",
   "execution_count": 144,
   "id": "bda95544",
   "metadata": {},
   "outputs": [
    {
     "data": {
      "text/plain": [
       "array([['Monday', 'Tuesday', 'Wednesday', 'Thursday', 'Friday',\n",
       "        'Saturday', 'Sunday'],\n",
       "       ['', '', '', '', '', '', ''],\n",
       "       ['', '', '', '-13', '', '7', '7'],\n",
       "       ['7', '', '6', '6', '', '6', ''],\n",
       "       ['6', '', '7', '', '', '', '']], dtype='<U16')"
      ]
     },
     "execution_count": 144,
     "metadata": {},
     "output_type": "execute_result"
    }
   ],
   "source": [
    "min_of_nov"
   ]
  },
  {
   "cell_type": "code",
   "execution_count": 145,
   "id": "18cd89f9",
   "metadata": {},
   "outputs": [],
   "source": [
    "weeks_for_nov=data[0:6,0:2]"
   ]
  },
  {
   "cell_type": "code",
   "execution_count": 146,
   "id": "746aca31",
   "metadata": {},
   "outputs": [
    {
     "data": {
      "text/plain": [
       "array([['Month', 'Week'],\n",
       "       ['November', ''],\n",
       "       ['November', 'Week 1'],\n",
       "       ['November', 'Week 2'],\n",
       "       ['November', 'Week 3'],\n",
       "       ['November', 'Week 4']], dtype='<U16')"
      ]
     },
     "execution_count": 146,
     "metadata": {},
     "output_type": "execute_result"
    }
   ],
   "source": [
    "weeks_for_nov"
   ]
  },
  {
   "cell_type": "code",
   "execution_count": 149,
   "id": "ae2cca2d",
   "metadata": {},
   "outputs": [],
   "source": [
    "weeks_for_nov_1=np.delete(weeks_for_nov,1,axis=0)"
   ]
  },
  {
   "cell_type": "code",
   "execution_count": 150,
   "id": "3e16ba21",
   "metadata": {},
   "outputs": [
    {
     "data": {
      "text/plain": [
       "array([['Month', 'Week', 'Monday', 'Tuesday', 'Wednesday', 'Thursday',\n",
       "        'Friday', 'Saturday', 'Sunday'],\n",
       "       ['November', 'Week 1', '', '', '', '', '', '', ''],\n",
       "       ['November', 'Week 2', '', '', '', '-13', '', '7', '7'],\n",
       "       ['November', 'Week 3', '7', '', '6', '6', '', '6', ''],\n",
       "       ['November', 'Week 4', '6', '', '7', '', '', '', '']], dtype='<U16')"
      ]
     },
     "execution_count": 150,
     "metadata": {},
     "output_type": "execute_result"
    }
   ],
   "source": [
    "np.hstack((weeks_for_nov_1,min_of_nov))"
   ]
  },
  {
   "cell_type": "markdown",
   "id": "deefdbed",
   "metadata": {},
   "source": [
    "7.Print all the weeks in Dec and Jan where the maximum temperature has\n",
    "crossed a threshold of 20 degrees."
   ]
  },
  {
   "cell_type": "code",
   "execution_count": 151,
   "id": "38f39c47",
   "metadata": {},
   "outputs": [],
   "source": [
    "dec_jan=data[6:14]"
   ]
  },
  {
   "cell_type": "code",
   "execution_count": 152,
   "id": "5c82c118",
   "metadata": {},
   "outputs": [
    {
     "data": {
      "text/plain": [
       "array([['December', 'Week 1', '10', '25', '6', '27', '11', '29', '13',\n",
       "        '21', '12', '24', '7', '25', '12', '22'],\n",
       "       ['December', 'Week 2', '7', '31', '7', '26', '10', '23', '11',\n",
       "        '20', '10', '23', '9', '21', '13', '31'],\n",
       "       ['December', 'Week 3', '8', '32', '6', '32', '11', '20', '13',\n",
       "        '20', '11', '29', '12', '32', '11', '32'],\n",
       "       ['December', 'Week 4', '6', '20', '12', '23', '12', '28', '13',\n",
       "        '31', '7', '32', '15', '22', '7', '26'],\n",
       "       ['January', 'Week 1', '5', '19', '7', '19', '4', '21', '7', '21',\n",
       "        '5', '22', '2', '7', '18', '4'],\n",
       "       ['January', 'Week 2', '5', '22', '4', '20', '6', '21', '3', '21',\n",
       "        '7', '19', '6', '6', '18', '8'],\n",
       "       ['January', 'Week 3', '2', '22', '6', '19', '2', '20', '4', '18',\n",
       "        '2', '22', '6', '6', '21', '4'],\n",
       "       ['January', 'Week 4', '7', '19', '8', '21', '4', '19', '8', '21',\n",
       "        '7', '18', '2', '8', '18', '5']], dtype='<U16')"
      ]
     },
     "execution_count": 152,
     "metadata": {},
     "output_type": "execute_result"
    }
   ],
   "source": [
    "dec_jan"
   ]
  },
  {
   "cell_type": "code",
   "execution_count": 153,
   "id": "1e6a1ae6",
   "metadata": {},
   "outputs": [],
   "source": [
    "dec_to_jan=dec_jan[0:,2:].astype(int)"
   ]
  },
  {
   "cell_type": "code",
   "execution_count": 154,
   "id": "0ff22a79",
   "metadata": {},
   "outputs": [
    {
     "data": {
      "text/plain": [
       "array([[10, 25,  6, 27, 11, 29, 13, 21, 12, 24,  7, 25, 12, 22],\n",
       "       [ 7, 31,  7, 26, 10, 23, 11, 20, 10, 23,  9, 21, 13, 31],\n",
       "       [ 8, 32,  6, 32, 11, 20, 13, 20, 11, 29, 12, 32, 11, 32],\n",
       "       [ 6, 20, 12, 23, 12, 28, 13, 31,  7, 32, 15, 22,  7, 26],\n",
       "       [ 5, 19,  7, 19,  4, 21,  7, 21,  5, 22,  2,  7, 18,  4],\n",
       "       [ 5, 22,  4, 20,  6, 21,  3, 21,  7, 19,  6,  6, 18,  8],\n",
       "       [ 2, 22,  6, 19,  2, 20,  4, 18,  2, 22,  6,  6, 21,  4],\n",
       "       [ 7, 19,  8, 21,  4, 19,  8, 21,  7, 18,  2,  8, 18,  5]])"
      ]
     },
     "execution_count": 154,
     "metadata": {},
     "output_type": "execute_result"
    }
   ],
   "source": [
    "dec_to_jan"
   ]
  },
  {
   "cell_type": "code",
   "execution_count": 155,
   "id": "80f715a7",
   "metadata": {},
   "outputs": [
    {
     "data": {
      "text/plain": [
       "(8, 14)"
      ]
     },
     "execution_count": 155,
     "metadata": {},
     "output_type": "execute_result"
    }
   ],
   "source": [
    "dec_to_jan.shape"
   ]
  },
  {
   "cell_type": "code",
   "execution_count": 156,
   "id": "aad75bc5",
   "metadata": {},
   "outputs": [],
   "source": [
    "dec_to_jan_temp=dec_to_jan.reshape(8*14)"
   ]
  },
  {
   "cell_type": "code",
   "execution_count": 157,
   "id": "7262d4a3",
   "metadata": {},
   "outputs": [
    {
     "data": {
      "text/plain": [
       "array([10, 25,  6, 27, 11, 29, 13, 21, 12, 24,  7, 25, 12, 22,  7, 31,  7,\n",
       "       26, 10, 23, 11, 20, 10, 23,  9, 21, 13, 31,  8, 32,  6, 32, 11, 20,\n",
       "       13, 20, 11, 29, 12, 32, 11, 32,  6, 20, 12, 23, 12, 28, 13, 31,  7,\n",
       "       32, 15, 22,  7, 26,  5, 19,  7, 19,  4, 21,  7, 21,  5, 22,  2,  7,\n",
       "       18,  4,  5, 22,  4, 20,  6, 21,  3, 21,  7, 19,  6,  6, 18,  8,  2,\n",
       "       22,  6, 19,  2, 20,  4, 18,  2, 22,  6,  6, 21,  4,  7, 19,  8, 21,\n",
       "        4, 19,  8, 21,  7, 18,  2,  8, 18,  5])"
      ]
     },
     "execution_count": 157,
     "metadata": {},
     "output_type": "execute_result"
    }
   ],
   "source": [
    "dec_to_jan_temp"
   ]
  },
  {
   "cell_type": "code",
   "execution_count": 158,
   "id": "64c40baa",
   "metadata": {},
   "outputs": [
    {
     "name": "stdout",
     "output_type": "stream",
     "text": [
      "['', 25, '', 27, '', 29, '', 21, '', 24, '', 25, '', 22, '', 31, '', 26, '', 23, '', '', '', 23, '', 21, '', 31, '', 32, '', 32, '', '', '', '', '', 29, '', 32, '', 32, '', '', '', 23, '', 28, '', 31, '', 32, '', 22, '', 26, '', '', '', '', '', 21, '', 21, '', 22, '', '', '', '', '', 22, '', '', '', 21, '', 21, '', '', '', '', '', '', '', 22, '', '', '', '', '', '', '', 22, '', '', 21, '', '', '', '', 21, '', '', '', 21, '', '', '', '', '', '']\n"
     ]
    }
   ],
   "source": [
    "d1=[]\n",
    "for j in dec_to_jan_temp:\n",
    "    if j>20:\n",
    "        d1.append(j)\n",
    "    else:\n",
    "        d1.append('')\n",
    "print(d1)\n"
   ]
  },
  {
   "cell_type": "code",
   "execution_count": 161,
   "id": "a0dd9ba1",
   "metadata": {},
   "outputs": [],
   "source": [
    "d1=np.array(d1).reshape(8,14)"
   ]
  },
  {
   "cell_type": "code",
   "execution_count": 162,
   "id": "ecc5948b",
   "metadata": {},
   "outputs": [
    {
     "data": {
      "text/plain": [
       "array([['December', 'Week 1', '', '25', '', '27', '', '29', '', '21', '',\n",
       "        '24', '', '25', '', '22'],\n",
       "       ['December', 'Week 2', '', '31', '', '26', '', '23', '', '', '',\n",
       "        '23', '', '21', '', '31'],\n",
       "       ['December', 'Week 3', '', '32', '', '32', '', '', '', '', '',\n",
       "        '29', '', '32', '', '32'],\n",
       "       ['December', 'Week 4', '', '', '', '23', '', '28', '', '31', '',\n",
       "        '32', '', '22', '', '26'],\n",
       "       ['January', 'Week 1', '', '', '', '', '', '21', '', '21', '',\n",
       "        '22', '', '', '', ''],\n",
       "       ['January', 'Week 2', '', '22', '', '', '', '21', '', '21', '',\n",
       "        '', '', '', '', ''],\n",
       "       ['January', 'Week 3', '', '22', '', '', '', '', '', '', '', '22',\n",
       "        '', '', '21', ''],\n",
       "       ['January', 'Week 4', '', '', '', '21', '', '', '', '21', '', '',\n",
       "        '', '', '', '']], dtype='<U16')"
      ]
     },
     "execution_count": 162,
     "metadata": {},
     "output_type": "execute_result"
    }
   ],
   "source": [
    "np.hstack((dec_jan[0:,0:2],d1))"
   ]
  },
  {
   "cell_type": "markdown",
   "id": "e51741e7",
   "metadata": {},
   "source": [
    "8.Check if there are any absurd values present in the dataset(like some temp\n",
    "which should not be present in the data)"
   ]
  },
  {
   "cell_type": "code",
   "execution_count": 164,
   "id": "7ac9709e",
   "metadata": {},
   "outputs": [],
   "source": [
    "cond=data[2:,:]"
   ]
  },
  {
   "cell_type": "code",
   "execution_count": 165,
   "id": "98ef525e",
   "metadata": {},
   "outputs": [],
   "source": [
    "cond_1=cond==''"
   ]
  },
  {
   "cell_type": "code",
   "execution_count": 166,
   "id": "29c3f2b2",
   "metadata": {},
   "outputs": [
    {
     "data": {
      "text/plain": [
       "array([], dtype='<U16')"
      ]
     },
     "execution_count": 166,
     "metadata": {},
     "output_type": "execute_result"
    }
   ],
   "source": [
    "cond[cond_1]"
   ]
  },
  {
   "cell_type": "markdown",
   "id": "4cc7d08d",
   "metadata": {},
   "source": [
    "9. What strategy would you use to handle such data points?"
   ]
  },
  {
   "cell_type": "code",
   "execution_count": null,
   "id": "73ba186f",
   "metadata": {},
   "outputs": [],
   "source": []
  },
  {
   "cell_type": "markdown",
   "id": "594fc7af",
   "metadata": {},
   "source": [
    "10. Find and print the indexes of all the outlier(unusual) values present in\n",
    "the above dataset."
   ]
  },
  {
   "cell_type": "code",
   "execution_count": 210,
   "id": "12522b67",
   "metadata": {},
   "outputs": [],
   "source": [
    "temp_all=data[2:,2:].astype(int)"
   ]
  },
  {
   "cell_type": "code",
   "execution_count": 213,
   "id": "a5177860",
   "metadata": {},
   "outputs": [
    {
     "data": {
      "text/plain": [
       "(16, 14)"
      ]
     },
     "execution_count": 213,
     "metadata": {},
     "output_type": "execute_result"
    }
   ],
   "source": [
    "temp_all.shape"
   ]
  },
  {
   "cell_type": "code",
   "execution_count": 216,
   "id": "d95b299e",
   "metadata": {},
   "outputs": [
    {
     "data": {
      "text/plain": [
       "(array([ 1, 12], dtype=int64), array([6, 4], dtype=int64))"
      ]
     },
     "execution_count": 216,
     "metadata": {},
     "output_type": "execute_result"
    }
   ],
   "source": [
    "np.where(temp_all<0)"
   ]
  },
  {
   "cell_type": "markdown",
   "id": "a8690ddb",
   "metadata": {},
   "source": [
    "11.Replace the outliers with an appropriate value."
   ]
  },
  {
   "cell_type": "code",
   "execution_count": 214,
   "id": "82bcb7dd",
   "metadata": {},
   "outputs": [],
   "source": [
    "over_all=temp_all.reshape(16*14)"
   ]
  },
  {
   "cell_type": "code",
   "execution_count": 215,
   "id": "ed545772",
   "metadata": {},
   "outputs": [
    {
     "data": {
      "text/plain": [
       "array([ 10,  27,  12,  22,  15,  21,  15,  26,   8,  32,  11,  28,   8,\n",
       "        32,  11,  27,  14,  21,  12,  32, -13,  29,  14,  21,   7,  24,\n",
       "         7,  21,   7,  31,  11,  20,   6,  26,   6,  20,  14,  25,   6,\n",
       "        22,   9,  21,   6,  26,  15,  26,   7,  23,   9,  31,  11,  24,\n",
       "        10,  23,  14,  22,  10,  25,   6,  27,  11,  29,  13,  21,  12,\n",
       "        24,   7,  25,  12,  22,   7,  31,   7,  26,  10,  23,  11,  20,\n",
       "        10,  23,   9,  21,  13,  31,   8,  32,   6,  32,  11,  20,  13,\n",
       "        20,  11,  29,  12,  32,  11,  32,   6,  20,  12,  23,  12,  28,\n",
       "        13,  31,   7,  32,  15,  22,   7,  26,   5,  19,   7,  19,   4,\n",
       "        21,   7,  21,   5,  22,   2,   7,  18,   4,   5,  22,   4,  20,\n",
       "         6,  21,   3,  21,   7,  19,   6,   6,  18,   8,   2,  22,   6,\n",
       "        19,   2,  20,   4,  18,   2,  22,   6,   6,  21,   4,   7,  19,\n",
       "         8,  21,   4,  19,   8,  21,   7,  18,   2,   8,  18,   5,   9,\n",
       "        22,   9,  22, -10,  19,   9,  21,   8,  22,  12,  71,  18,  10,\n",
       "        11,  18,   7,  22,  10,  18,  12,  18,   7,  20,  11,  12,  21,\n",
       "         9,  12,  19,   9,  19,   8,  21,  12,  19,  10,  22,  12,   9,\n",
       "        20,   9,   7,  21,  10,  22,   8,  21,   7,  19,  11,  22,   9,\n",
       "         8,  20,  11])"
      ]
     },
     "execution_count": 215,
     "metadata": {},
     "output_type": "execute_result"
    }
   ],
   "source": [
    "over_all"
   ]
  },
  {
   "cell_type": "code",
   "execution_count": 217,
   "id": "f8454056",
   "metadata": {},
   "outputs": [
    {
     "name": "stdout",
     "output_type": "stream",
     "text": [
      "[10, 27, 12, 22, 15, 21, 15, 26, 8, 32, 11, 28, 8, 32, 11, 27, 14, 21, 12, 32, '10.10', 29, 14, 21, 7, 24, 7, 21, 7, 31, 11, 20, 6, 26, 6, 20, 14, 25, 6, 22, 9, 21, 6, 26, 15, 26, 7, 23, 9, 31, 11, 24, 10, 23, 14, 22, 10, 25, 6, 27, 11, 29, 13, 21, 12, 24, 7, 25, 12, 22, 7, 31, 7, 26, 10, 23, 11, 20, 10, 23, 9, 21, 13, 31, 8, 32, 6, 32, 11, 20, 13, 20, 11, 29, 12, 32, 11, 32, 6, 20, 12, 23, 12, 28, 13, 31, 7, 32, 15, 22, 7, 26, 5, 19, 7, 19, 4, 21, 7, 21, 5, 22, 2, 7, 18, 4, 5, 22, 4, 20, 6, 21, 3, 21, 7, 19, 6, 6, 18, 8, 2, 22, 6, 19, 2, 20, 4, 18, 2, 22, 6, 6, 21, 4, 7, 19, 8, 21, 4, 19, 8, 21, 7, 18, 2, 8, 18, 5, 9, 22, 9, 22, '10.10', 19, 9, 21, 8, 22, 12, 71, 18, 10, 11, 18, 7, 22, 10, 18, 12, 18, 7, 20, 11, 12, 21, 9, 12, 19, 9, 19, 8, 21, 12, 19, 10, 22, 12, 9, 20, 9, 7, 21, 10, 22, 8, 21, 7, 19, 11, 22, 9, 8, 20, 11]\n"
     ]
    }
   ],
   "source": [
    "k1=[]\n",
    "for t in over_all:\n",
    "    if t<0:\n",
    "        k1.append('10.10')\n",
    "    else:\n",
    "        k1.append(t)\n",
    "print(k1)"
   ]
  },
  {
   "cell_type": "code",
   "execution_count": 220,
   "id": "71bee448",
   "metadata": {},
   "outputs": [],
   "source": [
    "k1=np.array(k1).reshape(16,14)"
   ]
  },
  {
   "cell_type": "code",
   "execution_count": 221,
   "id": "c2a99823",
   "metadata": {},
   "outputs": [
    {
     "data": {
      "text/plain": [
       "array([['10', '27', '12', '22', '15', '21', '15', '26', '8', '32', '11',\n",
       "        '28', '8', '32'],\n",
       "       ['11', '27', '14', '21', '12', '32', '10.10', '29', '14', '21',\n",
       "        '7', '24', '7', '21'],\n",
       "       ['7', '31', '11', '20', '6', '26', '6', '20', '14', '25', '6',\n",
       "        '22', '9', '21'],\n",
       "       ['6', '26', '15', '26', '7', '23', '9', '31', '11', '24', '10',\n",
       "        '23', '14', '22'],\n",
       "       ['10', '25', '6', '27', '11', '29', '13', '21', '12', '24', '7',\n",
       "        '25', '12', '22'],\n",
       "       ['7', '31', '7', '26', '10', '23', '11', '20', '10', '23', '9',\n",
       "        '21', '13', '31'],\n",
       "       ['8', '32', '6', '32', '11', '20', '13', '20', '11', '29', '12',\n",
       "        '32', '11', '32'],\n",
       "       ['6', '20', '12', '23', '12', '28', '13', '31', '7', '32', '15',\n",
       "        '22', '7', '26'],\n",
       "       ['5', '19', '7', '19', '4', '21', '7', '21', '5', '22', '2', '7',\n",
       "        '18', '4'],\n",
       "       ['5', '22', '4', '20', '6', '21', '3', '21', '7', '19', '6', '6',\n",
       "        '18', '8'],\n",
       "       ['2', '22', '6', '19', '2', '20', '4', '18', '2', '22', '6', '6',\n",
       "        '21', '4'],\n",
       "       ['7', '19', '8', '21', '4', '19', '8', '21', '7', '18', '2', '8',\n",
       "        '18', '5'],\n",
       "       ['9', '22', '9', '22', '10.10', '19', '9', '21', '8', '22', '12',\n",
       "        '71', '18', '10'],\n",
       "       ['11', '18', '7', '22', '10', '18', '12', '18', '7', '20', '11',\n",
       "        '12', '21', '9'],\n",
       "       ['12', '19', '9', '19', '8', '21', '12', '19', '10', '22', '12',\n",
       "        '9', '20', '9'],\n",
       "       ['7', '21', '10', '22', '8', '21', '7', '19', '11', '22', '9',\n",
       "        '8', '20', '11']], dtype='<U11')"
      ]
     },
     "execution_count": 221,
     "metadata": {},
     "output_type": "execute_result"
    }
   ],
   "source": [
    "k1"
   ]
  },
  {
   "cell_type": "markdown",
   "id": "acc8df79",
   "metadata": {},
   "source": [
    "12.Find the average max temperature for the winter months in Jaipur."
   ]
  },
  {
   "cell_type": "code",
   "execution_count": 167,
   "id": "cb66736c",
   "metadata": {},
   "outputs": [],
   "source": [
    "winter_avg=data[2:14,3::2].astype(int)"
   ]
  },
  {
   "cell_type": "code",
   "execution_count": 170,
   "id": "a22e4daa",
   "metadata": {},
   "outputs": [
    {
     "data": {
      "text/plain": [
       "array([[27, 22, 21, 26, 32, 28, 32],\n",
       "       [27, 21, 32, 29, 21, 24, 21],\n",
       "       [31, 20, 26, 20, 25, 22, 21],\n",
       "       [26, 26, 23, 31, 24, 23, 22],\n",
       "       [25, 27, 29, 21, 24, 25, 22],\n",
       "       [31, 26, 23, 20, 23, 21, 31],\n",
       "       [32, 32, 20, 20, 29, 32, 32],\n",
       "       [20, 23, 28, 31, 32, 22, 26],\n",
       "       [19, 19, 21, 21, 22,  7,  4],\n",
       "       [22, 20, 21, 21, 19,  6,  8],\n",
       "       [22, 19, 20, 18, 22,  6,  4],\n",
       "       [19, 21, 19, 21, 18,  8,  5]])"
      ]
     },
     "execution_count": 170,
     "metadata": {},
     "output_type": "execute_result"
    }
   ],
   "source": [
    "winter_avg\n",
    "# average of nov,dec and jan"
   ]
  },
  {
   "cell_type": "code",
   "execution_count": 171,
   "id": "5fcfa70a",
   "metadata": {},
   "outputs": [
    {
     "data": {
      "text/plain": [
       "22.404761904761905"
      ]
     },
     "execution_count": 171,
     "metadata": {},
     "output_type": "execute_result"
    }
   ],
   "source": [
    "np.average(winter_avg)"
   ]
  },
  {
   "cell_type": "markdown",
   "id": "ff8ef5a2",
   "metadata": {},
   "source": [
    "13.Find the weekly min avg temp for the month of Dec in Jaipur\n"
   ]
  },
  {
   "cell_type": "code",
   "execution_count": 51,
   "id": "01717d96",
   "metadata": {},
   "outputs": [],
   "source": [
    "min_avg=data[8:12,2::2].astype(int)"
   ]
  },
  {
   "cell_type": "code",
   "execution_count": 52,
   "id": "389e1ca3",
   "metadata": {},
   "outputs": [
    {
     "data": {
      "text/plain": [
       "array([[10,  6, 11, 13, 12,  7, 12],\n",
       "       [ 7,  7, 10, 11, 10,  9, 13],\n",
       "       [ 8,  6, 11, 13, 11, 12, 11],\n",
       "       [ 6, 12, 12, 13,  7, 15,  7]])"
      ]
     },
     "execution_count": 52,
     "metadata": {},
     "output_type": "execute_result"
    }
   ],
   "source": [
    "min_avg"
   ]
  },
  {
   "cell_type": "code",
   "execution_count": 183,
   "id": "250d97f7",
   "metadata": {},
   "outputs": [
    {
     "data": {
      "text/plain": [
       "10.142857142857142"
      ]
     },
     "execution_count": 183,
     "metadata": {},
     "output_type": "execute_result"
    }
   ],
   "source": [
    "week_1=min_avg[0]\n",
    "w1=np.mean(week_1)\n",
    "w1"
   ]
  },
  {
   "cell_type": "code",
   "execution_count": 184,
   "id": "5a9b44f2",
   "metadata": {},
   "outputs": [
    {
     "data": {
      "text/plain": [
       "9.571428571428571"
      ]
     },
     "execution_count": 184,
     "metadata": {},
     "output_type": "execute_result"
    }
   ],
   "source": [
    "week_2=min_avg[1]\n",
    "w2=np.mean(week_2)\n",
    "w2"
   ]
  },
  {
   "cell_type": "code",
   "execution_count": 185,
   "id": "00490899",
   "metadata": {},
   "outputs": [
    {
     "data": {
      "text/plain": [
       "10.285714285714286"
      ]
     },
     "execution_count": 185,
     "metadata": {},
     "output_type": "execute_result"
    }
   ],
   "source": [
    "week_3=min_avg[2]\n",
    "w3=np.mean(week_3)\n",
    "w3"
   ]
  },
  {
   "cell_type": "code",
   "execution_count": 186,
   "id": "9025fcdd",
   "metadata": {},
   "outputs": [
    {
     "data": {
      "text/plain": [
       "10.285714285714286"
      ]
     },
     "execution_count": 186,
     "metadata": {},
     "output_type": "execute_result"
    }
   ],
   "source": [
    "week_4=min_avg[3]\n",
    "w4=np.mean(week_4)\n",
    "w4"
   ]
  },
  {
   "cell_type": "code",
   "execution_count": 189,
   "id": "9f88954e",
   "metadata": {},
   "outputs": [],
   "source": [
    "arr=np.array([w1,w2,w3,w4])"
   ]
  },
  {
   "cell_type": "code",
   "execution_count": 191,
   "id": "878d2ff4",
   "metadata": {},
   "outputs": [
    {
     "data": {
      "text/plain": [
       "10.071428571428571"
      ]
     },
     "execution_count": 191,
     "metadata": {},
     "output_type": "execute_result"
    }
   ],
   "source": [
    "np.mean(arr)"
   ]
  },
  {
   "cell_type": "markdown",
   "id": "fe7f4cef",
   "metadata": {},
   "source": [
    "14.Find the overall avg temp for the months Dec and Jan"
   ]
  },
  {
   "cell_type": "code",
   "execution_count": 192,
   "id": "cb077f72",
   "metadata": {},
   "outputs": [
    {
     "data": {
      "text/plain": [
       "array([[10, 25,  6, 27, 11, 29, 13, 21, 12, 24,  7, 25, 12, 22],\n",
       "       [ 7, 31,  7, 26, 10, 23, 11, 20, 10, 23,  9, 21, 13, 31],\n",
       "       [ 8, 32,  6, 32, 11, 20, 13, 20, 11, 29, 12, 32, 11, 32],\n",
       "       [ 6, 20, 12, 23, 12, 28, 13, 31,  7, 32, 15, 22,  7, 26],\n",
       "       [ 5, 19,  7, 19,  4, 21,  7, 21,  5, 22,  2,  7, 18,  4],\n",
       "       [ 5, 22,  4, 20,  6, 21,  3, 21,  7, 19,  6,  6, 18,  8],\n",
       "       [ 2, 22,  6, 19,  2, 20,  4, 18,  2, 22,  6,  6, 21,  4],\n",
       "       [ 7, 19,  8, 21,  4, 19,  8, 21,  7, 18,  2,  8, 18,  5]])"
      ]
     },
     "execution_count": 192,
     "metadata": {},
     "output_type": "execute_result"
    }
   ],
   "source": [
    "dec_to_jan"
   ]
  },
  {
   "cell_type": "code",
   "execution_count": 193,
   "id": "8b9e5818",
   "metadata": {},
   "outputs": [
    {
     "data": {
      "text/plain": [
       "14.776785714285714"
      ]
     },
     "execution_count": 193,
     "metadata": {},
     "output_type": "execute_result"
    }
   ],
   "source": [
    "np.average(dec_to_jan)"
   ]
  },
  {
   "cell_type": "markdown",
   "id": "53c1aac9",
   "metadata": {},
   "source": [
    "15.Find the least temp experienced by the city in the month of Dec and\n",
    "Jan. Also print the exact date( Day/Week/Month) for the same."
   ]
  },
  {
   "cell_type": "code",
   "execution_count": 194,
   "id": "08f3f932",
   "metadata": {},
   "outputs": [
    {
     "data": {
      "text/plain": [
       "array([[10, 25,  6, 27, 11, 29, 13, 21, 12, 24,  7, 25, 12, 22],\n",
       "       [ 7, 31,  7, 26, 10, 23, 11, 20, 10, 23,  9, 21, 13, 31],\n",
       "       [ 8, 32,  6, 32, 11, 20, 13, 20, 11, 29, 12, 32, 11, 32],\n",
       "       [ 6, 20, 12, 23, 12, 28, 13, 31,  7, 32, 15, 22,  7, 26],\n",
       "       [ 5, 19,  7, 19,  4, 21,  7, 21,  5, 22,  2,  7, 18,  4],\n",
       "       [ 5, 22,  4, 20,  6, 21,  3, 21,  7, 19,  6,  6, 18,  8],\n",
       "       [ 2, 22,  6, 19,  2, 20,  4, 18,  2, 22,  6,  6, 21,  4],\n",
       "       [ 7, 19,  8, 21,  4, 19,  8, 21,  7, 18,  2,  8, 18,  5]])"
      ]
     },
     "execution_count": 194,
     "metadata": {},
     "output_type": "execute_result"
    }
   ],
   "source": [
    "dec_to_jan"
   ]
  },
  {
   "cell_type": "code",
   "execution_count": 195,
   "id": "27fcf0e0",
   "metadata": {},
   "outputs": [
    {
     "data": {
      "text/plain": [
       "2"
      ]
     },
     "execution_count": 195,
     "metadata": {},
     "output_type": "execute_result"
    }
   ],
   "source": [
    "dec_to_jan.min()"
   ]
  },
  {
   "cell_type": "code",
   "execution_count": 196,
   "id": "12bd4604",
   "metadata": {},
   "outputs": [
    {
     "data": {
      "text/plain": [
       "(8, 14)"
      ]
     },
     "execution_count": 196,
     "metadata": {},
     "output_type": "execute_result"
    }
   ],
   "source": [
    "dec_to_jan.shape"
   ]
  },
  {
   "cell_type": "code",
   "execution_count": 197,
   "id": "1a7d7421",
   "metadata": {},
   "outputs": [],
   "source": [
    "dec_to_jan_1=dec_to_jan.reshape(8*14,)"
   ]
  },
  {
   "cell_type": "code",
   "execution_count": 199,
   "id": "c5bc22ac",
   "metadata": {},
   "outputs": [
    {
     "name": "stdout",
     "output_type": "stream",
     "text": [
      "['', '', '', '', '', '', '', '', '', '', '', '', '', '', '', '', '', '', '', '', '', '', '', '', '', '', '', '', '', '', '', '', '', '', '', '', '', '', '', '', '', '', '', '', '', '', '', '', '', '', '', '', '', '', '', '', '', '', '', '', '', '', '', '', '', '', 2, '', '', '', '', '', '', '', '', '', '', '', '', '', '', '', '', '', 2, '', '', '', 2, '', '', '', 2, '', '', '', '', '', '', '', '', '', '', '', '', '', '', '', 2, '', '', '']\n"
     ]
    }
   ],
   "source": [
    "f1=[]\n",
    "for r in dec_to_jan_1:\n",
    "    if r==2:\n",
    "        f1.append(r)\n",
    "    else:\n",
    "        f1.append('')\n",
    "print(f1)"
   ]
  },
  {
   "cell_type": "code",
   "execution_count": 200,
   "id": "832a910a",
   "metadata": {},
   "outputs": [],
   "source": [
    "f1=np.array(f1).reshape(8,14)"
   ]
  },
  {
   "cell_type": "code",
   "execution_count": 202,
   "id": "5e2d93ec",
   "metadata": {},
   "outputs": [],
   "source": [
    "f2=np.hstack((dec_jan[0:,0:2],f1))"
   ]
  },
  {
   "cell_type": "code",
   "execution_count": 204,
   "id": "fbcbd0f6",
   "metadata": {},
   "outputs": [
    {
     "data": {
      "text/plain": [
       "array([['Month', 'Week', 'Monday', 'Monday', 'Tuesday', 'Tuesday',\n",
       "        'Wednesday', 'Wednesday', 'Thursday', 'Thursday', 'Friday',\n",
       "        'Friday', 'Saturday', 'Saturday', 'Sunday', 'Sunday'],\n",
       "       ['December', 'Week 1', '', '', '', '', '', '', '', '', '', '', '',\n",
       "        '', '', ''],\n",
       "       ['December', 'Week 2', '', '', '', '', '', '', '', '', '', '', '',\n",
       "        '', '', ''],\n",
       "       ['December', 'Week 3', '', '', '', '', '', '', '', '', '', '', '',\n",
       "        '', '', ''],\n",
       "       ['December', 'Week 4', '', '', '', '', '', '', '', '', '', '', '',\n",
       "        '', '', ''],\n",
       "       ['January', 'Week 1', '', '', '', '', '', '', '', '', '', '', '2',\n",
       "        '', '', ''],\n",
       "       ['January', 'Week 2', '', '', '', '', '', '', '', '', '', '', '',\n",
       "        '', '', ''],\n",
       "       ['January', 'Week 3', '2', '', '', '', '2', '', '', '', '2', '',\n",
       "        '', '', '', ''],\n",
       "       ['January', 'Week 4', '', '', '', '', '', '', '', '', '', '', '2',\n",
       "        '', '', '']], dtype='<U16')"
      ]
     },
     "execution_count": 204,
     "metadata": {},
     "output_type": "execute_result"
    }
   ],
   "source": [
    "np.vstack((data[0],f2))"
   ]
  },
  {
   "cell_type": "markdown",
   "id": "91049e70",
   "metadata": {},
   "source": [
    "16. Find the max temp in the month of Feb and return its\n",
    "date(Day/Week/Month)"
   ]
  },
  {
   "cell_type": "code",
   "execution_count": 224,
   "id": "885b767b",
   "metadata": {},
   "outputs": [],
   "source": [
    "temp_feb=data[14:,2:].astype(int)"
   ]
  },
  {
   "cell_type": "code",
   "execution_count": 229,
   "id": "d32c506c",
   "metadata": {},
   "outputs": [
    {
     "data": {
      "text/plain": [
       "71"
      ]
     },
     "execution_count": 229,
     "metadata": {},
     "output_type": "execute_result"
    }
   ],
   "source": [
    "temp_feb.max()"
   ]
  },
  {
   "cell_type": "code",
   "execution_count": 226,
   "id": "88929a7d",
   "metadata": {},
   "outputs": [
    {
     "data": {
      "text/plain": [
       "(4, 14)"
      ]
     },
     "execution_count": 226,
     "metadata": {},
     "output_type": "execute_result"
    }
   ],
   "source": [
    "temp_feb.shape"
   ]
  },
  {
   "cell_type": "code",
   "execution_count": 227,
   "id": "ce9780a0",
   "metadata": {},
   "outputs": [],
   "source": [
    "temp_max_feb=temp_feb.reshape(4*14,)"
   ]
  },
  {
   "cell_type": "code",
   "execution_count": 228,
   "id": "ba8d44dc",
   "metadata": {},
   "outputs": [
    {
     "data": {
      "text/plain": [
       "array([  9,  22,   9,  22, -10,  19,   9,  21,   8,  22,  12,  71,  18,\n",
       "        10,  11,  18,   7,  22,  10,  18,  12,  18,   7,  20,  11,  12,\n",
       "        21,   9,  12,  19,   9,  19,   8,  21,  12,  19,  10,  22,  12,\n",
       "         9,  20,   9,   7,  21,  10,  22,   8,  21,   7,  19,  11,  22,\n",
       "         9,   8,  20,  11])"
      ]
     },
     "execution_count": 228,
     "metadata": {},
     "output_type": "execute_result"
    }
   ],
   "source": [
    "temp_max_feb"
   ]
  },
  {
   "cell_type": "code",
   "execution_count": 230,
   "id": "8538be46",
   "metadata": {},
   "outputs": [
    {
     "name": "stdout",
     "output_type": "stream",
     "text": [
      "['', '', '', '', '', '', '', '', '', '', '', 71, '', '', '', '', '', '', '', '', '', '', '', '', '', '', '', '', '', '', '', '', '', '', '', '', '', '', '', '', '', '', '', '', '', '', '', '', '', '', '', '', '', '', '', '']\n"
     ]
    }
   ],
   "source": [
    "l1=[]\n",
    "for y in temp_max_feb:\n",
    "    if y==71:\n",
    "        l1.append(y)\n",
    "    else:\n",
    "        l1.append('')\n",
    "print(l1)"
   ]
  },
  {
   "cell_type": "code",
   "execution_count": 232,
   "id": "8f63d5e1",
   "metadata": {},
   "outputs": [],
   "source": [
    "l1=np.array(l1).reshape(4,14)"
   ]
  },
  {
   "cell_type": "code",
   "execution_count": 233,
   "id": "fa8860e4",
   "metadata": {},
   "outputs": [],
   "source": [
    "l2=np.hstack((data[14:,0:2],l1))"
   ]
  },
  {
   "cell_type": "code",
   "execution_count": 234,
   "id": "25c5f640",
   "metadata": {},
   "outputs": [
    {
     "data": {
      "text/plain": [
       "array([['February', 'Week 1', '', '', '', '', '', '', '', '', '', '', '',\n",
       "        '71', '', ''],\n",
       "       ['February', 'Week 2', '', '', '', '', '', '', '', '', '', '', '',\n",
       "        '', '', ''],\n",
       "       ['February', 'Week 3', '', '', '', '', '', '', '', '', '', '', '',\n",
       "        '', '', ''],\n",
       "       ['February', 'Week 4', '', '', '', '', '', '', '', '', '', '', '',\n",
       "        '', '', '']], dtype='<U16')"
      ]
     },
     "execution_count": 234,
     "metadata": {},
     "output_type": "execute_result"
    }
   ],
   "source": [
    "l2"
   ]
  },
  {
   "cell_type": "code",
   "execution_count": 235,
   "id": "4e34e500",
   "metadata": {},
   "outputs": [
    {
     "data": {
      "text/plain": [
       "array([['Month', 'Week', 'Monday', 'Monday', 'Tuesday', 'Tuesday',\n",
       "        'Wednesday', 'Wednesday', 'Thursday', 'Thursday', 'Friday',\n",
       "        'Friday', 'Saturday', 'Saturday', 'Sunday', 'Sunday'],\n",
       "       ['February', 'Week 1', '', '', '', '', '', '', '', '', '', '', '',\n",
       "        '71', '', ''],\n",
       "       ['February', 'Week 2', '', '', '', '', '', '', '', '', '', '', '',\n",
       "        '', '', ''],\n",
       "       ['February', 'Week 3', '', '', '', '', '', '', '', '', '', '', '',\n",
       "        '', '', ''],\n",
       "       ['February', 'Week 4', '', '', '', '', '', '', '', '', '', '', '',\n",
       "        '', '', '']], dtype='<U16')"
      ]
     },
     "execution_count": 235,
     "metadata": {},
     "output_type": "execute_result"
    }
   ],
   "source": [
    "np.vstack((data[0],l2))"
   ]
  },
  {
   "cell_type": "markdown",
   "id": "aa5dcf21",
   "metadata": {},
   "source": [
    "19.The above data is appropriate for an audience who follow the metric\n",
    "system of measurement. Create an array that holds the same data but\n",
    "presented in Fahrenheit."
   ]
  },
  {
   "cell_type": "code",
   "execution_count": 205,
   "id": "48509543",
   "metadata": {},
   "outputs": [],
   "source": [
    "e=data[2:,2:].astype(int)"
   ]
  },
  {
   "cell_type": "code",
   "execution_count": 206,
   "id": "b41361f9",
   "metadata": {},
   "outputs": [
    {
     "data": {
      "text/plain": [
       "array([[ 10,  27,  12,  22,  15,  21,  15,  26,   8,  32,  11,  28,   8,\n",
       "         32],\n",
       "       [ 11,  27,  14,  21,  12,  32, -13,  29,  14,  21,   7,  24,   7,\n",
       "         21],\n",
       "       [  7,  31,  11,  20,   6,  26,   6,  20,  14,  25,   6,  22,   9,\n",
       "         21],\n",
       "       [  6,  26,  15,  26,   7,  23,   9,  31,  11,  24,  10,  23,  14,\n",
       "         22],\n",
       "       [ 10,  25,   6,  27,  11,  29,  13,  21,  12,  24,   7,  25,  12,\n",
       "         22],\n",
       "       [  7,  31,   7,  26,  10,  23,  11,  20,  10,  23,   9,  21,  13,\n",
       "         31],\n",
       "       [  8,  32,   6,  32,  11,  20,  13,  20,  11,  29,  12,  32,  11,\n",
       "         32],\n",
       "       [  6,  20,  12,  23,  12,  28,  13,  31,   7,  32,  15,  22,   7,\n",
       "         26],\n",
       "       [  5,  19,   7,  19,   4,  21,   7,  21,   5,  22,   2,   7,  18,\n",
       "          4],\n",
       "       [  5,  22,   4,  20,   6,  21,   3,  21,   7,  19,   6,   6,  18,\n",
       "          8],\n",
       "       [  2,  22,   6,  19,   2,  20,   4,  18,   2,  22,   6,   6,  21,\n",
       "          4],\n",
       "       [  7,  19,   8,  21,   4,  19,   8,  21,   7,  18,   2,   8,  18,\n",
       "          5],\n",
       "       [  9,  22,   9,  22, -10,  19,   9,  21,   8,  22,  12,  71,  18,\n",
       "         10],\n",
       "       [ 11,  18,   7,  22,  10,  18,  12,  18,   7,  20,  11,  12,  21,\n",
       "          9],\n",
       "       [ 12,  19,   9,  19,   8,  21,  12,  19,  10,  22,  12,   9,  20,\n",
       "          9],\n",
       "       [  7,  21,  10,  22,   8,  21,   7,  19,  11,  22,   9,   8,  20,\n",
       "         11]])"
      ]
     },
     "execution_count": 206,
     "metadata": {},
     "output_type": "execute_result"
    }
   ],
   "source": [
    "e"
   ]
  },
  {
   "cell_type": "code",
   "execution_count": 207,
   "id": "9ab3b5c8",
   "metadata": {},
   "outputs": [
    {
     "data": {
      "text/plain": [
       "array([[ 50. ,  80.6,  53.6,  71.6,  59. ,  69.8,  59. ,  78.8,  46.4,\n",
       "         89.6,  51.8,  82.4,  46.4,  89.6],\n",
       "       [ 51.8,  80.6,  57.2,  69.8,  53.6,  89.6,   8.6,  84.2,  57.2,\n",
       "         69.8,  44.6,  75.2,  44.6,  69.8],\n",
       "       [ 44.6,  87.8,  51.8,  68. ,  42.8,  78.8,  42.8,  68. ,  57.2,\n",
       "         77. ,  42.8,  71.6,  48.2,  69.8],\n",
       "       [ 42.8,  78.8,  59. ,  78.8,  44.6,  73.4,  48.2,  87.8,  51.8,\n",
       "         75.2,  50. ,  73.4,  57.2,  71.6],\n",
       "       [ 50. ,  77. ,  42.8,  80.6,  51.8,  84.2,  55.4,  69.8,  53.6,\n",
       "         75.2,  44.6,  77. ,  53.6,  71.6],\n",
       "       [ 44.6,  87.8,  44.6,  78.8,  50. ,  73.4,  51.8,  68. ,  50. ,\n",
       "         73.4,  48.2,  69.8,  55.4,  87.8],\n",
       "       [ 46.4,  89.6,  42.8,  89.6,  51.8,  68. ,  55.4,  68. ,  51.8,\n",
       "         84.2,  53.6,  89.6,  51.8,  89.6],\n",
       "       [ 42.8,  68. ,  53.6,  73.4,  53.6,  82.4,  55.4,  87.8,  44.6,\n",
       "         89.6,  59. ,  71.6,  44.6,  78.8],\n",
       "       [ 41. ,  66.2,  44.6,  66.2,  39.2,  69.8,  44.6,  69.8,  41. ,\n",
       "         71.6,  35.6,  44.6,  64.4,  39.2],\n",
       "       [ 41. ,  71.6,  39.2,  68. ,  42.8,  69.8,  37.4,  69.8,  44.6,\n",
       "         66.2,  42.8,  42.8,  64.4,  46.4],\n",
       "       [ 35.6,  71.6,  42.8,  66.2,  35.6,  68. ,  39.2,  64.4,  35.6,\n",
       "         71.6,  42.8,  42.8,  69.8,  39.2],\n",
       "       [ 44.6,  66.2,  46.4,  69.8,  39.2,  66.2,  46.4,  69.8,  44.6,\n",
       "         64.4,  35.6,  46.4,  64.4,  41. ],\n",
       "       [ 48.2,  71.6,  48.2,  71.6,  14. ,  66.2,  48.2,  69.8,  46.4,\n",
       "         71.6,  53.6, 159.8,  64.4,  50. ],\n",
       "       [ 51.8,  64.4,  44.6,  71.6,  50. ,  64.4,  53.6,  64.4,  44.6,\n",
       "         68. ,  51.8,  53.6,  69.8,  48.2],\n",
       "       [ 53.6,  66.2,  48.2,  66.2,  46.4,  69.8,  53.6,  66.2,  50. ,\n",
       "         71.6,  53.6,  48.2,  68. ,  48.2],\n",
       "       [ 44.6,  69.8,  50. ,  71.6,  46.4,  69.8,  44.6,  66.2,  51.8,\n",
       "         71.6,  48.2,  46.4,  68. ,  51.8]])"
      ]
     },
     "execution_count": 207,
     "metadata": {},
     "output_type": "execute_result"
    }
   ],
   "source": [
    "(e*(9/5)+32)"
   ]
  },
  {
   "cell_type": "code",
   "execution_count": null,
   "id": "b1f5cf3f",
   "metadata": {},
   "outputs": [],
   "source": []
  }
 ],
 "metadata": {
  "kernelspec": {
   "display_name": "Python 3 (ipykernel)",
   "language": "python",
   "name": "python3"
  },
  "language_info": {
   "codemirror_mode": {
    "name": "ipython",
    "version": 3
   },
   "file_extension": ".py",
   "mimetype": "text/x-python",
   "name": "python",
   "nbconvert_exporter": "python",
   "pygments_lexer": "ipython3",
   "version": "3.11.1"
  }
 },
 "nbformat": 4,
 "nbformat_minor": 5
}
