{
 "cells": [
  {
   "cell_type": "code",
   "execution_count": 1,
   "id": "1c51fc92",
   "metadata": {},
   "outputs": [],
   "source": [
    "import numpy as np"
   ]
  },
  {
   "cell_type": "code",
   "execution_count": 6,
   "id": "7515a5bc",
   "metadata": {},
   "outputs": [],
   "source": [
    "a=np.random.rand(10)"
   ]
  },
  {
   "cell_type": "code",
   "execution_count": 7,
   "id": "89e82478",
   "metadata": {},
   "outputs": [
    {
     "data": {
      "text/plain": [
       "array([0.5191441 , 0.8665211 , 0.66664087, 0.09788239, 0.18701177,\n",
       "       0.88363885, 0.19354506, 0.04493579, 0.66194693, 0.35260208])"
      ]
     },
     "execution_count": 7,
     "metadata": {},
     "output_type": "execute_result"
    }
   ],
   "source": [
    "a"
   ]
  },
  {
   "cell_type": "code",
   "execution_count": 9,
   "id": "237a3b71",
   "metadata": {},
   "outputs": [
    {
     "data": {
      "text/plain": [
       "array([0.04493579, 0.09788239, 0.18701177, 0.19354506, 0.35260208,\n",
       "       0.88363885, 0.8665211 , 0.5191441 , 0.66194693, 0.66664087])"
      ]
     },
     "execution_count": 9,
     "metadata": {},
     "output_type": "execute_result"
    }
   ],
   "source": [
    "a[np.argpartition(a,range(5))]"
   ]
  },
  {
   "cell_type": "code",
   "execution_count": null,
   "id": "9d3bd2d9",
   "metadata": {},
   "outputs": [],
   "source": []
  }
 ],
 "metadata": {
  "kernelspec": {
   "display_name": "Python 3 (ipykernel)",
   "language": "python",
   "name": "python3"
  },
  "language_info": {
   "codemirror_mode": {
    "name": "ipython",
    "version": 3
   },
   "file_extension": ".py",
   "mimetype": "text/x-python",
   "name": "python",
   "nbconvert_exporter": "python",
   "pygments_lexer": "ipython3",
   "version": "3.11.1"
  }
 },
 "nbformat": 4,
 "nbformat_minor": 5
}
