{
 "cells": [
  {
   "cell_type": "code",
   "execution_count": 16,
   "id": "c2c2ce39",
   "metadata": {},
   "outputs": [],
   "source": [
    "import numpy as np"
   ]
  },
  {
   "cell_type": "code",
   "execution_count": 23,
   "id": "caf092c1",
   "metadata": {},
   "outputs": [],
   "source": [
    "b=[('name','a10'),('class','int'),('height','float')]"
   ]
  },
  {
   "cell_type": "code",
   "execution_count": 37,
   "id": "27f4395f",
   "metadata": {},
   "outputs": [],
   "source": [
    "a=[(b'James', 5, 48.5 ) ,(b'Nail', 6, 52.5 ), (b'Paul', 5, 42.1 ), (b'Pit', 5,40.11)]"
   ]
  },
  {
   "cell_type": "code",
   "execution_count": 38,
   "id": "7b249ed0",
   "metadata": {},
   "outputs": [],
   "source": [
    "c=np.array(a,b)"
   ]
  },
  {
   "cell_type": "code",
   "execution_count": 39,
   "id": "2b4e5531",
   "metadata": {},
   "outputs": [
    {
     "data": {
      "text/plain": [
       "array([(b'James', 5, 48.5 ), (b'Nail', 6, 52.5 ), (b'Paul', 5, 42.1 ),\n",
       "       (b'Pit', 5, 40.11)],\n",
       "      dtype=[('name', 'S10'), ('class', '<i4'), ('height', '<f8')])"
      ]
     },
     "execution_count": 39,
     "metadata": {},
     "output_type": "execute_result"
    }
   ],
   "source": [
    "c"
   ]
  },
  {
   "cell_type": "code",
   "execution_count": 41,
   "id": "7fde5b21",
   "metadata": {},
   "outputs": [
    {
     "data": {
      "text/plain": [
       "array([(b'Pit', 5, 40.11), (b'Paul', 5, 42.1 ), (b'James', 5, 48.5 ),\n",
       "       (b'Nail', 6, 52.5 )],\n",
       "      dtype=[('name', 'S10'), ('class', '<i4'), ('height', '<f8')])"
      ]
     },
     "execution_count": 41,
     "metadata": {},
     "output_type": "execute_result"
    }
   ],
   "source": [
    "#Sort by age, then height if class are equal\n",
    "np.sort(c,order=[\"class\",\"height\"])"
   ]
  },
  {
   "cell_type": "code",
   "execution_count": null,
   "id": "2784fb0e",
   "metadata": {},
   "outputs": [],
   "source": []
  },
  {
   "cell_type": "code",
   "execution_count": null,
   "id": "04869fab",
   "metadata": {},
   "outputs": [],
   "source": []
  },
  {
   "cell_type": "code",
   "execution_count": null,
   "id": "dee38f4b",
   "metadata": {},
   "outputs": [],
   "source": []
  },
  {
   "cell_type": "code",
   "execution_count": null,
   "id": "83a81877",
   "metadata": {},
   "outputs": [],
   "source": []
  }
 ],
 "metadata": {
  "kernelspec": {
   "display_name": "Python 3 (ipykernel)",
   "language": "python",
   "name": "python3"
  },
  "language_info": {
   "codemirror_mode": {
    "name": "ipython",
    "version": 3
   },
   "file_extension": ".py",
   "mimetype": "text/x-python",
   "name": "python",
   "nbconvert_exporter": "python",
   "pygments_lexer": "ipython3",
   "version": "3.11.1"
  }
 },
 "nbformat": 4,
 "nbformat_minor": 5
}
