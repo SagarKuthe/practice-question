{
 "cells": [
  {
   "cell_type": "code",
   "execution_count": 1,
   "id": "00fc64f7",
   "metadata": {},
   "outputs": [],
   "source": [
    "import numpy as np"
   ]
  },
  {
   "cell_type": "code",
   "execution_count": 2,
   "id": "25bd8ba6",
   "metadata": {},
   "outputs": [],
   "source": [
    "a=np.arange(50,75).reshape(5,5)"
   ]
  },
  {
   "cell_type": "code",
   "execution_count": 3,
   "id": "84260436",
   "metadata": {},
   "outputs": [
    {
     "data": {
      "text/plain": [
       "array([[50, 51, 52, 53, 54],\n",
       "       [55, 56, 57, 58, 59],\n",
       "       [60, 61, 62, 63, 64],\n",
       "       [65, 66, 67, 68, 69],\n",
       "       [70, 71, 72, 73, 74]])"
      ]
     },
     "execution_count": 3,
     "metadata": {},
     "output_type": "execute_result"
    }
   ],
   "source": [
    "a"
   ]
  },
  {
   "cell_type": "code",
   "execution_count": 23,
   "id": "ae369466",
   "metadata": {},
   "outputs": [],
   "source": [
    "a[a==50]=1"
   ]
  },
  {
   "cell_type": "code",
   "execution_count": 24,
   "id": "09ae76ff",
   "metadata": {},
   "outputs": [],
   "source": [
    "a[a==56]=2"
   ]
  },
  {
   "cell_type": "code",
   "execution_count": 25,
   "id": "7ceee148",
   "metadata": {},
   "outputs": [],
   "source": [
    "a[a==62]=3"
   ]
  },
  {
   "cell_type": "code",
   "execution_count": 26,
   "id": "70802f86",
   "metadata": {},
   "outputs": [],
   "source": [
    "a[a==68]=4"
   ]
  },
  {
   "cell_type": "code",
   "execution_count": 27,
   "id": "ccee4189",
   "metadata": {},
   "outputs": [],
   "source": [
    "a[a==74]=5"
   ]
  },
  {
   "cell_type": "code",
   "execution_count": 28,
   "id": "7d281957",
   "metadata": {},
   "outputs": [
    {
     "data": {
      "text/plain": [
       "array([[ 1, 51, 52, 53, 54],\n",
       "       [55,  2, 57, 58, 59],\n",
       "       [60, 61,  3, 63, 64],\n",
       "       [65, 66, 67,  4, 69],\n",
       "       [70, 71, 72, 73,  5]])"
      ]
     },
     "execution_count": 28,
     "metadata": {},
     "output_type": "execute_result"
    }
   ],
   "source": [
    "a"
   ]
  },
  {
   "cell_type": "code",
   "execution_count": null,
   "id": "63ee186e",
   "metadata": {},
   "outputs": [],
   "source": []
  }
 ],
 "metadata": {
  "kernelspec": {
   "display_name": "Python 3 (ipykernel)",
   "language": "python",
   "name": "python3"
  },
  "language_info": {
   "codemirror_mode": {
    "name": "ipython",
    "version": 3
   },
   "file_extension": ".py",
   "mimetype": "text/x-python",
   "name": "python",
   "nbconvert_exporter": "python",
   "pygments_lexer": "ipython3",
   "version": "3.11.1"
  }
 },
 "nbformat": 4,
 "nbformat_minor": 5
}
