{
 "cells": [
  {
   "cell_type": "code",
   "execution_count": 1,
   "id": "0a4b36a3",
   "metadata": {},
   "outputs": [],
   "source": [
    "import csv"
   ]
  },
  {
   "cell_type": "code",
   "execution_count": 2,
   "id": "8bc06b22",
   "metadata": {},
   "outputs": [],
   "source": [
    "import numpy as np"
   ]
  },
  {
   "cell_type": "code",
   "execution_count": 3,
   "id": "63f32bbc",
   "metadata": {},
   "outputs": [],
   "source": [
    "data=[]\n",
    "with open (r\"C:\\Users\\admin\\Downloads\\SampleTemperature Sheet - mysheet.csv\",'r') as csvfile:\n",
    "    reader=csv.reader(csvfile,delimiter=',')\n",
    "    for row in reader:\n",
    "        data.append(row)\n",
    "data=np.array(data)"
   ]
  },
  {
   "cell_type": "markdown",
   "id": "fdc9ae9f",
   "metadata": {},
   "source": [
    "1.Represent the data in the given sheet into an appropriate NumPy array so\n",
    "that you can perform the following actions on it.\n"
   ]
  },
  {
   "cell_type": "code",
   "execution_count": 4,
   "id": "e00b58a2",
   "metadata": {},
   "outputs": [
    {
     "data": {
      "text/plain": [
       "array([['Temprature Sheet', '', '', '', '', '', '', '', '', '', '', '',\n",
       "        '', '', '', ''],\n",
       "       ['', '', '', '', '', '', '', '', '', '', '', '', '', '', '', ''],\n",
       "       ['Month', 'Week', 'Monday', '', 'Tuesday', '', 'Wednesday', '',\n",
       "        'Thursday', '', 'Friday', '', 'Saturday', '', 'Sunday', ''],\n",
       "       ['November', '', 'Min Temp', 'Max Temp', 'Min Temp', 'Max Temp',\n",
       "        'Min Temp', 'Max Temp', 'Min Temp', 'Max Temp', 'Min Temp',\n",
       "        'Max Temp', 'Min Temp', 'Max Temp', 'Min Temp', 'Max Temp'],\n",
       "       ['', 'Week 1', '10', '27', '12', '22', '15', '21', '15', '26',\n",
       "        '8', '32', '11', '28', '8', '32'],\n",
       "       ['', 'Week 2', '11', '27', '14', '21', '12', '32', '-13', '29',\n",
       "        '14', '21', '7', '24', '7', '21'],\n",
       "       ['', 'Week 3', '7', '31', '11', '20', '6', '26', '6', '20', '14',\n",
       "        '25', '6', '22', '9', '21'],\n",
       "       ['', 'Week 4', '6', '26', '15', '26', '7', '23', '9', '31', '11',\n",
       "        '24', '10', '23', '14', '22'],\n",
       "       ['December', 'Week 1', '10', '25', '6', '27', '11', '29', '13',\n",
       "        '21', '12', '24', '7', '25', '12', '22'],\n",
       "       ['', 'Week 2', '7', '31', '7', '26', '10', '23', '11', '20', '10',\n",
       "        '23', '9', '21', '13', '31'],\n",
       "       ['', 'Week 3', '8', '32', '6', '32', '11', '20', '13', '20', '11',\n",
       "        '29', '12', '32', '11', '32'],\n",
       "       ['', 'Week 4', '6', '20', '12', '23', '12', '28', '13', '31', '7',\n",
       "        '32', '15', '22', '7', '26'],\n",
       "       ['January', 'Week 1', '5', '19', '7', '19', '4', '21', '7', '21',\n",
       "        '5', '22', '2', '7', '18', '4'],\n",
       "       ['', 'Week 2', '5', '22', '4', '20', '6', '21', '3', '21', '7',\n",
       "        '19', '6', '6', '18', '8'],\n",
       "       ['', 'Week 3', '2', '22', '6', '19', '2', '20', '4', '18', '2',\n",
       "        '22', '6', '6', '21', '4'],\n",
       "       ['', 'Week 4', '7', '19', '8', '21', '4', '19', '8', '21', '7',\n",
       "        '18', '2', '8', '18', '5'],\n",
       "       ['February', 'Week 1', '9', '22', '9', '22', '-10', '19', '9',\n",
       "        '21', '8', '22', '12', '71', '18', '10'],\n",
       "       ['', 'Week 2', '11', '18', '7', '22', '10', '18', '12', '18', '7',\n",
       "        '20', '11', '12', '21', '9'],\n",
       "       ['', 'Week 3', '12', '19', '9', '19', '8', '21', '12', '19', '10',\n",
       "        '22', '12', '9', '20', '9'],\n",
       "       ['', 'Week 4', '7', '21', '10', '22', '8', '21', '7', '19', '11',\n",
       "        '22', '9', '8', '20', '11']], dtype='<U16')"
      ]
     },
     "execution_count": 4,
     "metadata": {},
     "output_type": "execute_result"
    }
   ],
   "source": [
    "data"
   ]
  },
  {
   "cell_type": "code",
   "execution_count": 5,
   "id": "096e855f",
   "metadata": {},
   "outputs": [],
   "source": [
    "data[4:8,0]='November'"
   ]
  },
  {
   "cell_type": "code",
   "execution_count": 6,
   "id": "cd73c663",
   "metadata": {},
   "outputs": [],
   "source": [
    "data[9:12,0]='December'"
   ]
  },
  {
   "cell_type": "code",
   "execution_count": 7,
   "id": "7f0a87f1",
   "metadata": {},
   "outputs": [],
   "source": [
    "data[13:16,0]='January'"
   ]
  },
  {
   "cell_type": "code",
   "execution_count": 8,
   "id": "ba2fd49d",
   "metadata": {},
   "outputs": [],
   "source": [
    "data[17:20,0]='February'"
   ]
  },
  {
   "cell_type": "code",
   "execution_count": 9,
   "id": "befd0e5d",
   "metadata": {},
   "outputs": [],
   "source": [
    "data[2,3]='Monday'"
   ]
  },
  {
   "cell_type": "code",
   "execution_count": 10,
   "id": "d6884fd6",
   "metadata": {},
   "outputs": [],
   "source": [
    "data[2,5]='Tuesday'"
   ]
  },
  {
   "cell_type": "code",
   "execution_count": 11,
   "id": "dab1fb90",
   "metadata": {},
   "outputs": [],
   "source": [
    "data[2,7]='Wednesday'"
   ]
  },
  {
   "cell_type": "code",
   "execution_count": 12,
   "id": "5e421aeb",
   "metadata": {},
   "outputs": [],
   "source": [
    "data[2,9]='Thursday'"
   ]
  },
  {
   "cell_type": "code",
   "execution_count": 13,
   "id": "d5a64ea1",
   "metadata": {},
   "outputs": [],
   "source": [
    "data[2,11]='Friday'"
   ]
  },
  {
   "cell_type": "code",
   "execution_count": 14,
   "id": "2d973ea8",
   "metadata": {},
   "outputs": [],
   "source": [
    "data[2,13]='Saturday'"
   ]
  },
  {
   "cell_type": "code",
   "execution_count": 15,
   "id": "7a7d37e5",
   "metadata": {},
   "outputs": [],
   "source": [
    "data[2,15]='Sunday'"
   ]
  },
  {
   "cell_type": "code",
   "execution_count": 16,
   "id": "0c531e95",
   "metadata": {},
   "outputs": [
    {
     "data": {
      "text/plain": [
       "array([['Temprature Sheet', '', '', '', '', '', '', '', '', '', '', '',\n",
       "        '', '', '', ''],\n",
       "       ['', '', '', '', '', '', '', '', '', '', '', '', '', '', '', ''],\n",
       "       ['Month', 'Week', 'Monday', 'Monday', 'Tuesday', 'Tuesday',\n",
       "        'Wednesday', 'Wednesday', 'Thursday', 'Thursday', 'Friday',\n",
       "        'Friday', 'Saturday', 'Saturday', 'Sunday', 'Sunday'],\n",
       "       ['November', '', 'Min Temp', 'Max Temp', 'Min Temp', 'Max Temp',\n",
       "        'Min Temp', 'Max Temp', 'Min Temp', 'Max Temp', 'Min Temp',\n",
       "        'Max Temp', 'Min Temp', 'Max Temp', 'Min Temp', 'Max Temp'],\n",
       "       ['November', 'Week 1', '10', '27', '12', '22', '15', '21', '15',\n",
       "        '26', '8', '32', '11', '28', '8', '32'],\n",
       "       ['November', 'Week 2', '11', '27', '14', '21', '12', '32', '-13',\n",
       "        '29', '14', '21', '7', '24', '7', '21'],\n",
       "       ['November', 'Week 3', '7', '31', '11', '20', '6', '26', '6',\n",
       "        '20', '14', '25', '6', '22', '9', '21'],\n",
       "       ['November', 'Week 4', '6', '26', '15', '26', '7', '23', '9',\n",
       "        '31', '11', '24', '10', '23', '14', '22'],\n",
       "       ['December', 'Week 1', '10', '25', '6', '27', '11', '29', '13',\n",
       "        '21', '12', '24', '7', '25', '12', '22'],\n",
       "       ['December', 'Week 2', '7', '31', '7', '26', '10', '23', '11',\n",
       "        '20', '10', '23', '9', '21', '13', '31'],\n",
       "       ['December', 'Week 3', '8', '32', '6', '32', '11', '20', '13',\n",
       "        '20', '11', '29', '12', '32', '11', '32'],\n",
       "       ['December', 'Week 4', '6', '20', '12', '23', '12', '28', '13',\n",
       "        '31', '7', '32', '15', '22', '7', '26'],\n",
       "       ['January', 'Week 1', '5', '19', '7', '19', '4', '21', '7', '21',\n",
       "        '5', '22', '2', '7', '18', '4'],\n",
       "       ['January', 'Week 2', '5', '22', '4', '20', '6', '21', '3', '21',\n",
       "        '7', '19', '6', '6', '18', '8'],\n",
       "       ['January', 'Week 3', '2', '22', '6', '19', '2', '20', '4', '18',\n",
       "        '2', '22', '6', '6', '21', '4'],\n",
       "       ['January', 'Week 4', '7', '19', '8', '21', '4', '19', '8', '21',\n",
       "        '7', '18', '2', '8', '18', '5'],\n",
       "       ['February', 'Week 1', '9', '22', '9', '22', '-10', '19', '9',\n",
       "        '21', '8', '22', '12', '71', '18', '10'],\n",
       "       ['February', 'Week 2', '11', '18', '7', '22', '10', '18', '12',\n",
       "        '18', '7', '20', '11', '12', '21', '9'],\n",
       "       ['February', 'Week 3', '12', '19', '9', '19', '8', '21', '12',\n",
       "        '19', '10', '22', '12', '9', '20', '9'],\n",
       "       ['February', 'Week 4', '7', '21', '10', '22', '8', '21', '7',\n",
       "        '19', '11', '22', '9', '8', '20', '11']], dtype='<U16')"
      ]
     },
     "execution_count": 16,
     "metadata": {},
     "output_type": "execute_result"
    }
   ],
   "source": [
    "data"
   ]
  },
  {
   "cell_type": "markdown",
   "id": "229ed6c0",
   "metadata": {},
   "source": [
    "2.Write the dimensions and shape of the NumPy array that you have\n",
    "created."
   ]
  },
  {
   "cell_type": "code",
   "execution_count": 17,
   "id": "768f28ee",
   "metadata": {},
   "outputs": [
    {
     "data": {
      "text/plain": [
       "2"
      ]
     },
     "execution_count": 17,
     "metadata": {},
     "output_type": "execute_result"
    }
   ],
   "source": [
    "data.ndim"
   ]
  },
  {
   "cell_type": "code",
   "execution_count": 18,
   "id": "532d0494",
   "metadata": {},
   "outputs": [
    {
     "data": {
      "text/plain": [
       "(20, 16)"
      ]
     },
     "execution_count": 18,
     "metadata": {},
     "output_type": "execute_result"
    }
   ],
   "source": [
    "data.shape"
   ]
  },
  {
   "cell_type": "markdown",
   "id": "73fa6b77",
   "metadata": {},
   "source": [
    "3.Print the daily temperatures for the first week of each month."
   ]
  },
  {
   "cell_type": "code",
   "execution_count": 19,
   "id": "675ea901",
   "metadata": {},
   "outputs": [],
   "source": [
    "a=np.array(data[4::4,0:])"
   ]
  },
  {
   "cell_type": "code",
   "execution_count": 20,
   "id": "0f55046c",
   "metadata": {},
   "outputs": [
    {
     "data": {
      "text/plain": [
       "array([['November', 'Week 1', '10', '27', '12', '22', '15', '21', '15',\n",
       "        '26', '8', '32', '11', '28', '8', '32'],\n",
       "       ['December', 'Week 1', '10', '25', '6', '27', '11', '29', '13',\n",
       "        '21', '12', '24', '7', '25', '12', '22'],\n",
       "       ['January', 'Week 1', '5', '19', '7', '19', '4', '21', '7', '21',\n",
       "        '5', '22', '2', '7', '18', '4'],\n",
       "       ['February', 'Week 1', '9', '22', '9', '22', '-10', '19', '9',\n",
       "        '21', '8', '22', '12', '71', '18', '10']], dtype='<U16')"
      ]
     },
     "execution_count": 20,
     "metadata": {},
     "output_type": "execute_result"
    }
   ],
   "source": [
    "a"
   ]
  },
  {
   "cell_type": "markdown",
   "id": "59c4b7d1",
   "metadata": {},
   "source": [
    "4.Print the temperatures for Tuesday of each month.\n"
   ]
  },
  {
   "cell_type": "code",
   "execution_count": 21,
   "id": "33b3746c",
   "metadata": {},
   "outputs": [],
   "source": [
    "tuesday_temp=data[3:,4:6]"
   ]
  },
  {
   "cell_type": "code",
   "execution_count": 22,
   "id": "4262d494",
   "metadata": {},
   "outputs": [],
   "source": [
    "month=data[3:,0:2]"
   ]
  },
  {
   "cell_type": "code",
   "execution_count": 23,
   "id": "8feb4564",
   "metadata": {},
   "outputs": [
    {
     "data": {
      "text/plain": [
       "array([['November', '', 'Min Temp', 'Max Temp'],\n",
       "       ['November', 'Week 1', '12', '22'],\n",
       "       ['November', 'Week 2', '14', '21'],\n",
       "       ['November', 'Week 3', '11', '20'],\n",
       "       ['November', 'Week 4', '15', '26'],\n",
       "       ['December', 'Week 1', '6', '27'],\n",
       "       ['December', 'Week 2', '7', '26'],\n",
       "       ['December', 'Week 3', '6', '32'],\n",
       "       ['December', 'Week 4', '12', '23'],\n",
       "       ['January', 'Week 1', '7', '19'],\n",
       "       ['January', 'Week 2', '4', '20'],\n",
       "       ['January', 'Week 3', '6', '19'],\n",
       "       ['January', 'Week 4', '8', '21'],\n",
       "       ['February', 'Week 1', '9', '22'],\n",
       "       ['February', 'Week 2', '7', '22'],\n",
       "       ['February', 'Week 3', '9', '19'],\n",
       "       ['February', 'Week 4', '10', '22']], dtype='<U16')"
      ]
     },
     "execution_count": 23,
     "metadata": {},
     "output_type": "execute_result"
    }
   ],
   "source": [
    "np.hstack((month,tuesday_temp))"
   ]
  },
  {
   "cell_type": "markdown",
   "id": "4b485985",
   "metadata": {},
   "source": [
    "5.Print only the maximum temperature for all the weekdays of Dec and Feb."
   ]
  },
  {
   "cell_type": "code",
   "execution_count": 24,
   "id": "8a9b9d8d",
   "metadata": {},
   "outputs": [],
   "source": [
    "Dec_to_Feb=data[8:16,3::2]"
   ]
  },
  {
   "cell_type": "code",
   "execution_count": 25,
   "id": "65f4209a",
   "metadata": {},
   "outputs": [],
   "source": [
    "Dec_to_Feb_month=data[8:16,0:2]"
   ]
  },
  {
   "cell_type": "code",
   "execution_count": 26,
   "id": "a2ee3a62",
   "metadata": {},
   "outputs": [
    {
     "data": {
      "text/plain": [
       "array([['December', 'Week 1'],\n",
       "       ['December', 'Week 2'],\n",
       "       ['December', 'Week 3'],\n",
       "       ['December', 'Week 4'],\n",
       "       ['January', 'Week 1'],\n",
       "       ['January', 'Week 2'],\n",
       "       ['January', 'Week 3'],\n",
       "       ['January', 'Week 4']], dtype='<U16')"
      ]
     },
     "execution_count": 26,
     "metadata": {},
     "output_type": "execute_result"
    }
   ],
   "source": [
    "Dec_to_Feb_month"
   ]
  },
  {
   "cell_type": "code",
   "execution_count": 27,
   "id": "5f61058e",
   "metadata": {},
   "outputs": [
    {
     "data": {
      "text/plain": [
       "array([['December', 'Week 1', '25', '27', '29', '21', '24', '25', '22'],\n",
       "       ['December', 'Week 2', '31', '26', '23', '20', '23', '21', '31'],\n",
       "       ['December', 'Week 3', '32', '32', '20', '20', '29', '32', '32'],\n",
       "       ['December', 'Week 4', '20', '23', '28', '31', '32', '22', '26'],\n",
       "       ['January', 'Week 1', '19', '19', '21', '21', '22', '7', '4'],\n",
       "       ['January', 'Week 2', '22', '20', '21', '21', '19', '6', '8'],\n",
       "       ['January', 'Week 3', '22', '19', '20', '18', '22', '6', '4'],\n",
       "       ['January', 'Week 4', '19', '21', '19', '21', '18', '8', '5']],\n",
       "      dtype='<U16')"
      ]
     },
     "execution_count": 27,
     "metadata": {},
     "output_type": "execute_result"
    }
   ],
   "source": [
    "np.hstack((Dec_to_Feb_month,Dec_to_Feb))"
   ]
  },
  {
   "cell_type": "markdown",
   "id": "79239c9f",
   "metadata": {},
   "source": [
    "6.Print all the days along with the week number in November when the\n",
    "minimum temperature was less than 8 degrees. "
   ]
  },
  {
   "cell_type": "code",
   "execution_count": 28,
   "id": "8ee46752",
   "metadata": {},
   "outputs": [],
   "source": [
    "min_temp_1=data[2:,2::2]"
   ]
  },
  {
   "cell_type": "code",
   "execution_count": 29,
   "id": "df5ce4dc",
   "metadata": {},
   "outputs": [
    {
     "data": {
      "text/plain": [
       "array([['Monday', 'Tuesday', 'Wednesday', 'Thursday', 'Friday',\n",
       "        'Saturday', 'Sunday'],\n",
       "       ['Min Temp', 'Min Temp', 'Min Temp', 'Min Temp', 'Min Temp',\n",
       "        'Min Temp', 'Min Temp'],\n",
       "       ['10', '12', '15', '15', '8', '11', '8'],\n",
       "       ['11', '14', '12', '-13', '14', '7', '7'],\n",
       "       ['7', '11', '6', '6', '14', '6', '9'],\n",
       "       ['6', '15', '7', '9', '11', '10', '14'],\n",
       "       ['10', '6', '11', '13', '12', '7', '12'],\n",
       "       ['7', '7', '10', '11', '10', '9', '13'],\n",
       "       ['8', '6', '11', '13', '11', '12', '11'],\n",
       "       ['6', '12', '12', '13', '7', '15', '7'],\n",
       "       ['5', '7', '4', '7', '5', '2', '18'],\n",
       "       ['5', '4', '6', '3', '7', '6', '18'],\n",
       "       ['2', '6', '2', '4', '2', '6', '21'],\n",
       "       ['7', '8', '4', '8', '7', '2', '18'],\n",
       "       ['9', '9', '-10', '9', '8', '12', '18'],\n",
       "       ['11', '7', '10', '12', '7', '11', '21'],\n",
       "       ['12', '9', '8', '12', '10', '12', '20'],\n",
       "       ['7', '10', '8', '7', '11', '9', '20']], dtype='<U16')"
      ]
     },
     "execution_count": 29,
     "metadata": {},
     "output_type": "execute_result"
    }
   ],
   "source": [
    "min_temp_1"
   ]
  },
  {
   "cell_type": "code",
   "execution_count": 30,
   "id": "a8d24826",
   "metadata": {},
   "outputs": [],
   "source": [
    "min_temp_2=data[5:8,0:2]"
   ]
  },
  {
   "cell_type": "code",
   "execution_count": 31,
   "id": "09982fa8",
   "metadata": {},
   "outputs": [
    {
     "data": {
      "text/plain": [
       "array([['November', 'Week 2'],\n",
       "       ['November', 'Week 3'],\n",
       "       ['November', 'Week 4']], dtype='<U16')"
      ]
     },
     "execution_count": 31,
     "metadata": {},
     "output_type": "execute_result"
    }
   ],
   "source": [
    "min_temp_2"
   ]
  },
  {
   "cell_type": "code",
   "execution_count": 32,
   "id": "e1e809cb",
   "metadata": {},
   "outputs": [],
   "source": [
    "b=(min_temp_1[2:6].astype(int))"
   ]
  },
  {
   "cell_type": "code",
   "execution_count": 33,
   "id": "abbd5387",
   "metadata": {},
   "outputs": [
    {
     "data": {
      "text/plain": [
       "(array([1, 1, 1, 2, 2, 2, 2, 3, 3], dtype=int64),\n",
       " array([3, 5, 6, 0, 2, 3, 5, 0, 2], dtype=int64))"
      ]
     },
     "execution_count": 33,
     "metadata": {},
     "output_type": "execute_result"
    }
   ],
   "source": [
    "np.where(b<8)"
   ]
  },
  {
   "cell_type": "code",
   "execution_count": 34,
   "id": "d97d99dd",
   "metadata": {},
   "outputs": [
    {
     "data": {
      "text/plain": [
       "array([[ 10,  12,  15,  15,   8,  11,   8],\n",
       "       [ 11,  14,  12, -13,  14,   7,   7],\n",
       "       [  7,  11,   6,   6,  14,   6,   9],\n",
       "       [  6,  15,   7,   9,  11,  10,  14]])"
      ]
     },
     "execution_count": 34,
     "metadata": {},
     "output_type": "execute_result"
    }
   ],
   "source": [
    "b"
   ]
  },
  {
   "cell_type": "code",
   "execution_count": 35,
   "id": "04364d11",
   "metadata": {},
   "outputs": [],
   "source": [
    "c=np.array([[b[1,3],b[1,5],b[1,6]],[b[2,0],b[2,2],b[2,3]],[b[3,0],b[3,2],0]])"
   ]
  },
  {
   "cell_type": "code",
   "execution_count": 36,
   "id": "d2f11283",
   "metadata": {},
   "outputs": [
    {
     "data": {
      "text/plain": [
       "array([['November', 'Week 2', '-13', '7', '7'],\n",
       "       ['November', 'Week 3', '7', '6', '6'],\n",
       "       ['November', 'Week 4', '6', '7', '0']], dtype='<U16')"
      ]
     },
     "execution_count": 36,
     "metadata": {},
     "output_type": "execute_result"
    }
   ],
   "source": [
    "np.hstack((min_temp_2,c))"
   ]
  },
  {
   "cell_type": "markdown",
   "id": "deefdbed",
   "metadata": {},
   "source": [
    "7.Print all the weeks in Dec and Jan where the maximum temperature has\n",
    "crossed a threshold of 20 degrees."
   ]
  },
  {
   "cell_type": "code",
   "execution_count": 37,
   "id": "38f39c47",
   "metadata": {},
   "outputs": [],
   "source": [
    "f=data[8:16]"
   ]
  },
  {
   "cell_type": "code",
   "execution_count": 38,
   "id": "5c82c118",
   "metadata": {},
   "outputs": [
    {
     "data": {
      "text/plain": [
       "array([['December', 'Week 1', '10', '25', '6', '27', '11', '29', '13',\n",
       "        '21', '12', '24', '7', '25', '12', '22'],\n",
       "       ['December', 'Week 2', '7', '31', '7', '26', '10', '23', '11',\n",
       "        '20', '10', '23', '9', '21', '13', '31'],\n",
       "       ['December', 'Week 3', '8', '32', '6', '32', '11', '20', '13',\n",
       "        '20', '11', '29', '12', '32', '11', '32'],\n",
       "       ['December', 'Week 4', '6', '20', '12', '23', '12', '28', '13',\n",
       "        '31', '7', '32', '15', '22', '7', '26'],\n",
       "       ['January', 'Week 1', '5', '19', '7', '19', '4', '21', '7', '21',\n",
       "        '5', '22', '2', '7', '18', '4'],\n",
       "       ['January', 'Week 2', '5', '22', '4', '20', '6', '21', '3', '21',\n",
       "        '7', '19', '6', '6', '18', '8'],\n",
       "       ['January', 'Week 3', '2', '22', '6', '19', '2', '20', '4', '18',\n",
       "        '2', '22', '6', '6', '21', '4'],\n",
       "       ['January', 'Week 4', '7', '19', '8', '21', '4', '19', '8', '21',\n",
       "        '7', '18', '2', '8', '18', '5']], dtype='<U16')"
      ]
     },
     "execution_count": 38,
     "metadata": {},
     "output_type": "execute_result"
    }
   ],
   "source": [
    "f"
   ]
  },
  {
   "cell_type": "code",
   "execution_count": 39,
   "id": "1e6a1ae6",
   "metadata": {},
   "outputs": [],
   "source": [
    "d=data[8:16:,2:].astype(int)"
   ]
  },
  {
   "cell_type": "code",
   "execution_count": 40,
   "id": "0ff22a79",
   "metadata": {},
   "outputs": [
    {
     "data": {
      "text/plain": [
       "array([[10, 25,  6, 27, 11, 29, 13, 21, 12, 24,  7, 25, 12, 22],\n",
       "       [ 7, 31,  7, 26, 10, 23, 11, 20, 10, 23,  9, 21, 13, 31],\n",
       "       [ 8, 32,  6, 32, 11, 20, 13, 20, 11, 29, 12, 32, 11, 32],\n",
       "       [ 6, 20, 12, 23, 12, 28, 13, 31,  7, 32, 15, 22,  7, 26],\n",
       "       [ 5, 19,  7, 19,  4, 21,  7, 21,  5, 22,  2,  7, 18,  4],\n",
       "       [ 5, 22,  4, 20,  6, 21,  3, 21,  7, 19,  6,  6, 18,  8],\n",
       "       [ 2, 22,  6, 19,  2, 20,  4, 18,  2, 22,  6,  6, 21,  4],\n",
       "       [ 7, 19,  8, 21,  4, 19,  8, 21,  7, 18,  2,  8, 18,  5]])"
      ]
     },
     "execution_count": 40,
     "metadata": {},
     "output_type": "execute_result"
    }
   ],
   "source": [
    "d"
   ]
  },
  {
   "cell_type": "code",
   "execution_count": 41,
   "id": "80f715a7",
   "metadata": {},
   "outputs": [
    {
     "data": {
      "text/plain": [
       "(array([0, 0, 0, 0, 0, 0, 0, 1, 1, 1, 1, 1, 1, 2, 2, 2, 2, 2, 3, 3, 3, 3,\n",
       "        3, 3, 4, 4, 4, 5, 5, 5, 6, 6, 6, 7, 7], dtype=int64),\n",
       " array([ 1,  3,  5,  7,  9, 11, 13,  1,  3,  5,  9, 11, 13,  1,  3,  9, 11,\n",
       "        13,  3,  5,  7,  9, 11, 13,  5,  7,  9,  1,  5,  7,  1,  9, 12,  3,\n",
       "         7], dtype=int64))"
      ]
     },
     "execution_count": 41,
     "metadata": {},
     "output_type": "execute_result"
    }
   ],
   "source": [
    "np.where(d>20)"
   ]
  },
  {
   "cell_type": "code",
   "execution_count": 42,
   "id": "aad75bc5",
   "metadata": {},
   "outputs": [],
   "source": [
    "max_temp=np.array([[d[0,1],d[0,3],d[0,5],d[0,7],d[0,9],d[0,11],d[0,13]],[d[1,1],d[1,3],d[1,5],d[1,9],d[1,11],d[1,13],0],\n",
    "                   [d[2,1],d[2,3],d[2,9],d[2,11],d[2,13],0,0],[d[3,3],d[3,5],d[3,7],d[3,9],d[3,11],d[3,13],0],\n",
    "                   [d[4,5],d[4,7],d[4,9],0,0,0,0],\n",
    "                   [d[5,1],d[5,5],d[5,7],0,0,0,0],[d[6,1],d[6,9],d[6,12],0,0,0,0],[d[7,3],d[7,7],0,0,0,0,0]])"
   ]
  },
  {
   "cell_type": "code",
   "execution_count": 43,
   "id": "7262d4a3",
   "metadata": {},
   "outputs": [
    {
     "data": {
      "text/plain": [
       "array([[25, 27, 29, 21, 24, 25, 22],\n",
       "       [31, 26, 23, 23, 21, 31,  0],\n",
       "       [32, 32, 29, 32, 32,  0,  0],\n",
       "       [23, 28, 31, 32, 22, 26,  0],\n",
       "       [21, 21, 22,  0,  0,  0,  0],\n",
       "       [22, 21, 21,  0,  0,  0,  0],\n",
       "       [22, 22, 21,  0,  0,  0,  0],\n",
       "       [21, 21,  0,  0,  0,  0,  0]])"
      ]
     },
     "execution_count": 43,
     "metadata": {},
     "output_type": "execute_result"
    }
   ],
   "source": [
    "max_temp"
   ]
  },
  {
   "cell_type": "code",
   "execution_count": 44,
   "id": "64c40baa",
   "metadata": {},
   "outputs": [],
   "source": [
    "e=data[8:16,0:2]"
   ]
  },
  {
   "cell_type": "code",
   "execution_count": 45,
   "id": "a0dd9ba1",
   "metadata": {},
   "outputs": [
    {
     "data": {
      "text/plain": [
       "array([['December', 'Week 1'],\n",
       "       ['December', 'Week 2'],\n",
       "       ['December', 'Week 3'],\n",
       "       ['December', 'Week 4'],\n",
       "       ['January', 'Week 1'],\n",
       "       ['January', 'Week 2'],\n",
       "       ['January', 'Week 3'],\n",
       "       ['January', 'Week 4']], dtype='<U16')"
      ]
     },
     "execution_count": 45,
     "metadata": {},
     "output_type": "execute_result"
    }
   ],
   "source": [
    "e"
   ]
  },
  {
   "cell_type": "code",
   "execution_count": 46,
   "id": "ecc5948b",
   "metadata": {},
   "outputs": [
    {
     "data": {
      "text/plain": [
       "array([['December', 'Week 1', '25', '27', '29', '21', '24', '25', '22'],\n",
       "       ['December', 'Week 2', '31', '26', '23', '23', '21', '31', '0'],\n",
       "       ['December', 'Week 3', '32', '32', '29', '32', '32', '0', '0'],\n",
       "       ['December', 'Week 4', '23', '28', '31', '32', '22', '26', '0'],\n",
       "       ['January', 'Week 1', '21', '21', '22', '0', '0', '0', '0'],\n",
       "       ['January', 'Week 2', '22', '21', '21', '0', '0', '0', '0'],\n",
       "       ['January', 'Week 3', '22', '22', '21', '0', '0', '0', '0'],\n",
       "       ['January', 'Week 4', '21', '21', '0', '0', '0', '0', '0']],\n",
       "      dtype='<U16')"
      ]
     },
     "execution_count": 46,
     "metadata": {},
     "output_type": "execute_result"
    }
   ],
   "source": [
    "np.hstack((e,max_temp))"
   ]
  },
  {
   "cell_type": "markdown",
   "id": "e51741e7",
   "metadata": {},
   "source": [
    "8.Check if there are any absurd values present in the dataset(like some temp\n",
    "which should not be present in the data)"
   ]
  },
  {
   "cell_type": "code",
   "execution_count": 47,
   "id": "7ac9709e",
   "metadata": {},
   "outputs": [
    {
     "data": {
      "text/plain": [
       "array([[False, False, False, False, False, False, False, False, False,\n",
       "        False, False, False, False, False, False, False],\n",
       "       [False, False, False, False, False, False, False, False, False,\n",
       "        False, False, False, False, False, False, False],\n",
       "       [False, False, False, False, False, False, False, False, False,\n",
       "        False, False, False, False, False, False, False],\n",
       "       [False, False, False, False, False, False, False, False, False,\n",
       "        False, False, False, False, False, False, False],\n",
       "       [False, False, False, False, False, False, False, False, False,\n",
       "        False, False, False, False, False, False, False],\n",
       "       [False, False, False, False, False, False, False, False, False,\n",
       "        False, False, False, False, False, False, False],\n",
       "       [False, False, False, False, False, False, False, False, False,\n",
       "        False, False, False, False, False, False, False],\n",
       "       [False, False, False, False, False, False, False, False, False,\n",
       "        False, False, False, False, False, False, False],\n",
       "       [False, False, False, False, False, False, False, False, False,\n",
       "        False, False, False, False, False, False, False],\n",
       "       [False, False, False, False, False, False, False, False, False,\n",
       "        False, False, False, False, False, False, False],\n",
       "       [False, False, False, False, False, False, False, False, False,\n",
       "        False, False, False, False, False, False, False],\n",
       "       [False, False, False, False, False, False, False, False, False,\n",
       "        False, False, False, False, False, False, False],\n",
       "       [False, False, False, False, False, False, False, False, False,\n",
       "        False, False, False, False, False, False, False],\n",
       "       [False, False, False, False, False, False, False, False, False,\n",
       "        False, False, False, False, False, False, False],\n",
       "       [False, False, False, False, False, False, False, False, False,\n",
       "        False, False, False, False, False, False, False],\n",
       "       [False, False, False, False, False, False, False, False, False,\n",
       "        False, False, False, False, False, False, False]])"
      ]
     },
     "execution_count": 47,
     "metadata": {},
     "output_type": "execute_result"
    }
   ],
   "source": [
    "data[4:,0:]==''"
   ]
  },
  {
   "cell_type": "markdown",
   "id": "acc8df79",
   "metadata": {},
   "source": [
    "12.Find the average max temperature for the winter months in Jaipur."
   ]
  },
  {
   "cell_type": "code",
   "execution_count": 48,
   "id": "cb66736c",
   "metadata": {},
   "outputs": [],
   "source": [
    "winter_avg=data[4:16,3::2].astype(int)"
   ]
  },
  {
   "cell_type": "code",
   "execution_count": 49,
   "id": "a22e4daa",
   "metadata": {},
   "outputs": [
    {
     "data": {
      "text/plain": [
       "array([[27, 22, 21, 26, 32, 28, 32],\n",
       "       [27, 21, 32, 29, 21, 24, 21],\n",
       "       [31, 20, 26, 20, 25, 22, 21],\n",
       "       [26, 26, 23, 31, 24, 23, 22],\n",
       "       [25, 27, 29, 21, 24, 25, 22],\n",
       "       [31, 26, 23, 20, 23, 21, 31],\n",
       "       [32, 32, 20, 20, 29, 32, 32],\n",
       "       [20, 23, 28, 31, 32, 22, 26],\n",
       "       [19, 19, 21, 21, 22,  7,  4],\n",
       "       [22, 20, 21, 21, 19,  6,  8],\n",
       "       [22, 19, 20, 18, 22,  6,  4],\n",
       "       [19, 21, 19, 21, 18,  8,  5]])"
      ]
     },
     "execution_count": 49,
     "metadata": {},
     "output_type": "execute_result"
    }
   ],
   "source": [
    "winter_avg"
   ]
  },
  {
   "cell_type": "code",
   "execution_count": 50,
   "id": "5fcfa70a",
   "metadata": {},
   "outputs": [
    {
     "data": {
      "text/plain": [
       "22.404761904761905"
      ]
     },
     "execution_count": 50,
     "metadata": {},
     "output_type": "execute_result"
    }
   ],
   "source": [
    "np.average(winter_avg)"
   ]
  },
  {
   "cell_type": "markdown",
   "id": "ff8ef5a2",
   "metadata": {},
   "source": [
    "13.Find the weekly min avg temp for the month of Dec in Jaipur\n"
   ]
  },
  {
   "cell_type": "code",
   "execution_count": 51,
   "id": "01717d96",
   "metadata": {},
   "outputs": [],
   "source": [
    "min_avg=data[8:12,2::2].astype(int)"
   ]
  },
  {
   "cell_type": "code",
   "execution_count": 52,
   "id": "389e1ca3",
   "metadata": {},
   "outputs": [
    {
     "data": {
      "text/plain": [
       "array([[10,  6, 11, 13, 12,  7, 12],\n",
       "       [ 7,  7, 10, 11, 10,  9, 13],\n",
       "       [ 8,  6, 11, 13, 11, 12, 11],\n",
       "       [ 6, 12, 12, 13,  7, 15,  7]])"
      ]
     },
     "execution_count": 52,
     "metadata": {},
     "output_type": "execute_result"
    }
   ],
   "source": [
    "min_avg"
   ]
  },
  {
   "cell_type": "code",
   "execution_count": 53,
   "id": "250d97f7",
   "metadata": {},
   "outputs": [
    {
     "data": {
      "text/plain": [
       "10.071428571428571"
      ]
     },
     "execution_count": 53,
     "metadata": {},
     "output_type": "execute_result"
    }
   ],
   "source": [
    "np.average(min_avg)"
   ]
  },
  {
   "cell_type": "markdown",
   "id": "fe7f4cef",
   "metadata": {},
   "source": [
    "14.Find the overall avg temp for the months Dec and Jan"
   ]
  },
  {
   "cell_type": "code",
   "execution_count": 54,
   "id": "cb077f72",
   "metadata": {},
   "outputs": [
    {
     "data": {
      "text/plain": [
       "array([[10, 25,  6, 27, 11, 29, 13, 21, 12, 24,  7, 25, 12, 22],\n",
       "       [ 7, 31,  7, 26, 10, 23, 11, 20, 10, 23,  9, 21, 13, 31],\n",
       "       [ 8, 32,  6, 32, 11, 20, 13, 20, 11, 29, 12, 32, 11, 32],\n",
       "       [ 6, 20, 12, 23, 12, 28, 13, 31,  7, 32, 15, 22,  7, 26],\n",
       "       [ 5, 19,  7, 19,  4, 21,  7, 21,  5, 22,  2,  7, 18,  4],\n",
       "       [ 5, 22,  4, 20,  6, 21,  3, 21,  7, 19,  6,  6, 18,  8],\n",
       "       [ 2, 22,  6, 19,  2, 20,  4, 18,  2, 22,  6,  6, 21,  4],\n",
       "       [ 7, 19,  8, 21,  4, 19,  8, 21,  7, 18,  2,  8, 18,  5]])"
      ]
     },
     "execution_count": 54,
     "metadata": {},
     "output_type": "execute_result"
    }
   ],
   "source": [
    "d"
   ]
  },
  {
   "cell_type": "code",
   "execution_count": 55,
   "id": "8b9e5818",
   "metadata": {},
   "outputs": [
    {
     "data": {
      "text/plain": [
       "14.776785714285714"
      ]
     },
     "execution_count": 55,
     "metadata": {},
     "output_type": "execute_result"
    }
   ],
   "source": [
    "np.average(d)"
   ]
  },
  {
   "cell_type": "markdown",
   "id": "53c1aac9",
   "metadata": {},
   "source": [
    "15.Find the least temp experienced by the city in the month of Dec and\n",
    "Jan. Also print the exact date( Day/Week/Month) for the same."
   ]
  },
  {
   "cell_type": "code",
   "execution_count": 56,
   "id": "08f3f932",
   "metadata": {},
   "outputs": [
    {
     "data": {
      "text/plain": [
       "array([[10, 25,  6, 27, 11, 29, 13, 21, 12, 24,  7, 25, 12, 22],\n",
       "       [ 7, 31,  7, 26, 10, 23, 11, 20, 10, 23,  9, 21, 13, 31],\n",
       "       [ 8, 32,  6, 32, 11, 20, 13, 20, 11, 29, 12, 32, 11, 32],\n",
       "       [ 6, 20, 12, 23, 12, 28, 13, 31,  7, 32, 15, 22,  7, 26],\n",
       "       [ 5, 19,  7, 19,  4, 21,  7, 21,  5, 22,  2,  7, 18,  4],\n",
       "       [ 5, 22,  4, 20,  6, 21,  3, 21,  7, 19,  6,  6, 18,  8],\n",
       "       [ 2, 22,  6, 19,  2, 20,  4, 18,  2, 22,  6,  6, 21,  4],\n",
       "       [ 7, 19,  8, 21,  4, 19,  8, 21,  7, 18,  2,  8, 18,  5]])"
      ]
     },
     "execution_count": 56,
     "metadata": {},
     "output_type": "execute_result"
    }
   ],
   "source": [
    "d"
   ]
  },
  {
   "cell_type": "code",
   "execution_count": 57,
   "id": "27fcf0e0",
   "metadata": {},
   "outputs": [
    {
     "data": {
      "text/plain": [
       "2"
      ]
     },
     "execution_count": 57,
     "metadata": {},
     "output_type": "execute_result"
    }
   ],
   "source": [
    "d.min()"
   ]
  },
  {
   "cell_type": "code",
   "execution_count": 58,
   "id": "1a7d7421",
   "metadata": {},
   "outputs": [
    {
     "data": {
      "text/plain": [
       "(array([4, 6, 6, 6, 7], dtype=int64), array([12,  2,  6, 10, 12], dtype=int64))"
      ]
     },
     "execution_count": 58,
     "metadata": {},
     "output_type": "execute_result"
    }
   ],
   "source": [
    "np.where(f=='2')"
   ]
  },
  {
   "cell_type": "markdown",
   "id": "aa5dcf21",
   "metadata": {},
   "source": [
    "19.The above data is appropriate for an audience who follow the metric\n",
    "system of measurement. Create an array that holds the same data but\n",
    "presented in Fahrenheit."
   ]
  },
  {
   "cell_type": "code",
   "execution_count": 61,
   "id": "48509543",
   "metadata": {},
   "outputs": [],
   "source": [
    "e=data[4:,2:].astype(int)"
   ]
  },
  {
   "cell_type": "code",
   "execution_count": 62,
   "id": "b41361f9",
   "metadata": {},
   "outputs": [
    {
     "data": {
      "text/plain": [
       "array([[ 10,  27,  12,  22,  15,  21,  15,  26,   8,  32,  11,  28,   8,\n",
       "         32],\n",
       "       [ 11,  27,  14,  21,  12,  32, -13,  29,  14,  21,   7,  24,   7,\n",
       "         21],\n",
       "       [  7,  31,  11,  20,   6,  26,   6,  20,  14,  25,   6,  22,   9,\n",
       "         21],\n",
       "       [  6,  26,  15,  26,   7,  23,   9,  31,  11,  24,  10,  23,  14,\n",
       "         22],\n",
       "       [ 10,  25,   6,  27,  11,  29,  13,  21,  12,  24,   7,  25,  12,\n",
       "         22],\n",
       "       [  7,  31,   7,  26,  10,  23,  11,  20,  10,  23,   9,  21,  13,\n",
       "         31],\n",
       "       [  8,  32,   6,  32,  11,  20,  13,  20,  11,  29,  12,  32,  11,\n",
       "         32],\n",
       "       [  6,  20,  12,  23,  12,  28,  13,  31,   7,  32,  15,  22,   7,\n",
       "         26],\n",
       "       [  5,  19,   7,  19,   4,  21,   7,  21,   5,  22,   2,   7,  18,\n",
       "          4],\n",
       "       [  5,  22,   4,  20,   6,  21,   3,  21,   7,  19,   6,   6,  18,\n",
       "          8],\n",
       "       [  2,  22,   6,  19,   2,  20,   4,  18,   2,  22,   6,   6,  21,\n",
       "          4],\n",
       "       [  7,  19,   8,  21,   4,  19,   8,  21,   7,  18,   2,   8,  18,\n",
       "          5],\n",
       "       [  9,  22,   9,  22, -10,  19,   9,  21,   8,  22,  12,  71,  18,\n",
       "         10],\n",
       "       [ 11,  18,   7,  22,  10,  18,  12,  18,   7,  20,  11,  12,  21,\n",
       "          9],\n",
       "       [ 12,  19,   9,  19,   8,  21,  12,  19,  10,  22,  12,   9,  20,\n",
       "          9],\n",
       "       [  7,  21,  10,  22,   8,  21,   7,  19,  11,  22,   9,   8,  20,\n",
       "         11]])"
      ]
     },
     "execution_count": 62,
     "metadata": {},
     "output_type": "execute_result"
    }
   ],
   "source": [
    "e"
   ]
  },
  {
   "cell_type": "code",
   "execution_count": 66,
   "id": "9ab3b5c8",
   "metadata": {},
   "outputs": [
    {
     "data": {
      "text/plain": [
       "array([[ 50. ,  80.6,  53.6,  71.6,  59. ,  69.8,  59. ,  78.8,  46.4,\n",
       "         89.6,  51.8,  82.4,  46.4,  89.6],\n",
       "       [ 51.8,  80.6,  57.2,  69.8,  53.6,  89.6,   8.6,  84.2,  57.2,\n",
       "         69.8,  44.6,  75.2,  44.6,  69.8],\n",
       "       [ 44.6,  87.8,  51.8,  68. ,  42.8,  78.8,  42.8,  68. ,  57.2,\n",
       "         77. ,  42.8,  71.6,  48.2,  69.8],\n",
       "       [ 42.8,  78.8,  59. ,  78.8,  44.6,  73.4,  48.2,  87.8,  51.8,\n",
       "         75.2,  50. ,  73.4,  57.2,  71.6],\n",
       "       [ 50. ,  77. ,  42.8,  80.6,  51.8,  84.2,  55.4,  69.8,  53.6,\n",
       "         75.2,  44.6,  77. ,  53.6,  71.6],\n",
       "       [ 44.6,  87.8,  44.6,  78.8,  50. ,  73.4,  51.8,  68. ,  50. ,\n",
       "         73.4,  48.2,  69.8,  55.4,  87.8],\n",
       "       [ 46.4,  89.6,  42.8,  89.6,  51.8,  68. ,  55.4,  68. ,  51.8,\n",
       "         84.2,  53.6,  89.6,  51.8,  89.6],\n",
       "       [ 42.8,  68. ,  53.6,  73.4,  53.6,  82.4,  55.4,  87.8,  44.6,\n",
       "         89.6,  59. ,  71.6,  44.6,  78.8],\n",
       "       [ 41. ,  66.2,  44.6,  66.2,  39.2,  69.8,  44.6,  69.8,  41. ,\n",
       "         71.6,  35.6,  44.6,  64.4,  39.2],\n",
       "       [ 41. ,  71.6,  39.2,  68. ,  42.8,  69.8,  37.4,  69.8,  44.6,\n",
       "         66.2,  42.8,  42.8,  64.4,  46.4],\n",
       "       [ 35.6,  71.6,  42.8,  66.2,  35.6,  68. ,  39.2,  64.4,  35.6,\n",
       "         71.6,  42.8,  42.8,  69.8,  39.2],\n",
       "       [ 44.6,  66.2,  46.4,  69.8,  39.2,  66.2,  46.4,  69.8,  44.6,\n",
       "         64.4,  35.6,  46.4,  64.4,  41. ],\n",
       "       [ 48.2,  71.6,  48.2,  71.6,  14. ,  66.2,  48.2,  69.8,  46.4,\n",
       "         71.6,  53.6, 159.8,  64.4,  50. ],\n",
       "       [ 51.8,  64.4,  44.6,  71.6,  50. ,  64.4,  53.6,  64.4,  44.6,\n",
       "         68. ,  51.8,  53.6,  69.8,  48.2],\n",
       "       [ 53.6,  66.2,  48.2,  66.2,  46.4,  69.8,  53.6,  66.2,  50. ,\n",
       "         71.6,  53.6,  48.2,  68. ,  48.2],\n",
       "       [ 44.6,  69.8,  50. ,  71.6,  46.4,  69.8,  44.6,  66.2,  51.8,\n",
       "         71.6,  48.2,  46.4,  68. ,  51.8]])"
      ]
     },
     "execution_count": 66,
     "metadata": {},
     "output_type": "execute_result"
    }
   ],
   "source": [
    "(e*(9/5)+32)"
   ]
  },
  {
   "cell_type": "code",
   "execution_count": null,
   "id": "b1f5cf3f",
   "metadata": {},
   "outputs": [],
   "source": []
  }
 ],
 "metadata": {
  "kernelspec": {
   "display_name": "Python 3 (ipykernel)",
   "language": "python",
   "name": "python3"
  },
  "language_info": {
   "codemirror_mode": {
    "name": "ipython",
    "version": 3
   },
   "file_extension": ".py",
   "mimetype": "text/x-python",
   "name": "python",
   "nbconvert_exporter": "python",
   "pygments_lexer": "ipython3",
   "version": "3.11.1"
  }
 },
 "nbformat": 4,
 "nbformat_minor": 5
}
